{
 "cells": [
  {
   "cell_type": "code",
   "execution_count": 4,
   "id": "3621e8f2",
   "metadata": {},
   "outputs": [
    {
     "name": "stdout",
     "output_type": "stream",
     "text": [
      "Name: John Doe\n",
      "Age: 20\n",
      "Major: Computer Science\n",
      "---\n",
      "Name: Jane Smith\n",
      "Age: 22\n",
      "Major: Mathematics\n",
      "---\n"
     ]
    }
   ],
   "source": [
    "#1. Write a Python script that reads the students.jon JSON file and prints details of each student.\n",
    "import json\n",
    "\n",
    "with open(\"students.json\", \"r\") as student_file:\n",
    "    data = json.load(student_file)\n",
    "\n",
    "for student in data['students']:\n",
    "    print(f\"Name: {student['name']}\")\n",
    "    print(f\"Age: {student['age']}\")\n",
    "    print(f\"Major: {student['major']}\")\n",
    "    print('---')"
   ]
  },
  {
   "cell_type": "code",
   "execution_count": 5,
   "id": "c7888957",
   "metadata": {},
   "outputs": [
    {
     "name": "stdout",
     "output_type": "stream",
     "text": [
      "Weather in Tashkent:\n",
      "Temperature: 37.97°C\n",
      "Humidity: 11%\n",
      "Description: clear sky\n"
     ]
    }
   ],
   "source": [
    "#2. Task: Weather API. Use this url : https://openweathermap.org/. Use the requests library to fetch weather data for a specific city(ex. your hometown: Tashkent) and print relevant information (temperature, humidity, etc.).\n",
    "import requests\n",
    "\n",
    "API_KEY = 'd0aeff023b30ba642cda78e315483460'\n",
    "CITY = 'Tashkent'\n",
    "URL = f'https://api.openweathermap.org/data/2.5/weather?q={CITY}&appid={API_KEY}&units=metric'\n",
    "\n",
    "response = requests.get(URL)\n",
    "\n",
    "# Check if the request was successful\n",
    "if response.status_code == 200:\n",
    "    data = response.json()\n",
    "    \n",
    "    temperature = data['main']['temp']\n",
    "    humidity = data['main']['humidity']\n",
    "    description = data['weather'][0]['description']\n",
    "    \n",
    "    print(f\"Weather in {CITY}:\")\n",
    "    print(f\"Temperature: {temperature}°C\")\n",
    "    print(f\"Humidity: {humidity}%\")\n",
    "    print(f\"Description: {description}\")\n",
    "else:\n",
    "    print(\"Failed to retrieve data:\", response.status_code)\n"
   ]
  },
  {
   "cell_type": "code",
   "execution_count": 6,
   "id": "97da6852",
   "metadata": {},
   "outputs": [
    {
     "name": "stdout",
     "output_type": "stream",
     "text": [
      "1. Add Book\n",
      "2. Update Book\n",
      "3. Delete Book\n",
      "Book updated.\n"
     ]
    }
   ],
   "source": [
    "#3. Write a program that allows users to add new books, update existing book information, and delete books from the books.json JSON file.\n",
    "import json\n",
    "\n",
    "with open('books.json', 'r') as file:\n",
    "    data = json.load(file)\n",
    "\n",
    "print(\"1. Add Book\")\n",
    "print(\"2. Update Book\")\n",
    "print(\"3. Delete Book\")\n",
    "choice = input(\"Enter your choice: \")\n",
    "\n",
    "if choice == '1':\n",
    "    # Add new book\n",
    "    new_id = max(book['id'] for book in data['books']) + 1\n",
    "    title = input(\"Title: \")\n",
    "    author = input(\"Author: \")\n",
    "    year = int(input(\"Year: \"))\n",
    "    data['books'].append({\"id\": new_id, \"title\": title, \"author\": author, \"year\": year})\n",
    "    print(\"Book added.\")\n",
    "\n",
    "elif choice == '2':\n",
    "    # Update existing book\n",
    "    book_id = int(input(\"Enter book ID to update: \"))\n",
    "    for book in data['books']:\n",
    "        if book['id'] == book_id:\n",
    "            book['title'] = input(f\"New title (current: {book['title']}): \") or book['title']\n",
    "            book['author'] = input(f\"New author (current: {book['author']}): \") or book['author']\n",
    "            year_input = input(f\"New year (current: {book['year']}): \")\n",
    "            book['year'] = int(year_input) if year_input else book['year']\n",
    "            print(\"Book updated.\")\n",
    "            break\n",
    "    else:\n",
    "        print(\"Book ID not found.\")\n",
    "\n",
    "elif choice == '3':\n",
    "    # Delete book\n",
    "    book_id = int(input(\"Enter book ID to delete: \"))\n",
    "    original_len = len(data['books'])\n",
    "    data['books'] = [book for book in data['books'] if book['id'] != book_id]\n",
    "    if len(data['books']) < original_len:\n",
    "        print(\"Book deleted.\")\n",
    "    else:\n",
    "        print(\"Book ID not found.\")\n",
    "\n",
    "with open('books.json', 'w') as file:\n",
    "    json.dump(data, file, indent=4)\n"
   ]
  },
  {
   "cell_type": "code",
   "execution_count": 11,
   "id": "5f90245a",
   "metadata": {},
   "outputs": [
    {
     "name": "stdout",
     "output_type": "stream",
     "text": [
      "\n",
      "Recommended Movie: Forrest Gump\n",
      "Year: 1994\n",
      "Genre: Drama, Romance\n",
      "Plot: The history of the United States from the 1950s to the '70s unfolds from the perspective of an Alabama man with an IQ of 75, who yearns to be reunited with his childhood sweetheart.\n",
      "IMDB Rating: 8.8\n"
     ]
    }
   ],
   "source": [
    "#4. Task: Movie Recommendation System. Use this url http://www.omdbapi.com/ to fetch information about movies.. Create a program that asks users for a movie genre and recommends a random movie from that genre.\n",
    "import requests\n",
    "import random\n",
    "\n",
    "API_KEY = 'cb5d347e'  \n",
    "\n",
    "movies_by_genre = {\n",
    "    \"action\": [\"Mad Max: Fury Road\", \"John Wick\", \"Die Hard\"],\n",
    "    \"comedy\": [\"The Hangover\", \"Superbad\", \"Step Brothers\"],\n",
    "    \"drama\": [\"Forrest Gump\", \"The Shawshank Redemption\", \"Fight Club\"],\n",
    "    \"horror\": [\"The Conjuring\", \"Get Out\", \"A Nightmare on Elm Street\"]\n",
    "}\n",
    "\n",
    "genre = input(\"Enter a genre (action, comedy, drama, horror): \").lower()\n",
    "\n",
    "if genre in movies_by_genre:\n",
    "    movie_title = random.choice(movies_by_genre[genre])\n",
    "    \n",
    "    url = f\"http://www.omdbapi.com/?t={movie_title}&apikey={API_KEY}\"\n",
    "    response = requests.get(url)\n",
    "    \n",
    "    if response.status_code == 200:\n",
    "        data = response.json()\n",
    "        if data['Response'] == 'True':\n",
    "            print(f\"\\nRecommended Movie: {data['Title']}\")\n",
    "            print(f\"Year: {data['Year']}\")\n",
    "            print(f\"Genre: {data['Genre']}\")\n",
    "            print(f\"Plot: {data['Plot']}\")\n",
    "            print(f\"IMDB Rating: {data['imdbRating']}\")\n",
    "        else:\n",
    "            print(\"Movie not found in OMDb.\")\n",
    "    else:\n",
    "        print(\"Failed to fetch data from OMDb API.\")\n",
    "else:\n",
    "    print(\"Genre not available.\")\n"
   ]
  }
 ],
 "metadata": {
  "kernelspec": {
   "display_name": "base",
   "language": "python",
   "name": "python3"
  },
  "language_info": {
   "codemirror_mode": {
    "name": "ipython",
    "version": 3
   },
   "file_extension": ".py",
   "mimetype": "text/x-python",
   "name": "python",
   "nbconvert_exporter": "python",
   "pygments_lexer": "ipython3",
   "version": "3.11.7"
  }
 },
 "nbformat": 4,
 "nbformat_minor": 5
}
