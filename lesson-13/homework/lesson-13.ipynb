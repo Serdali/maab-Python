{
 "cells": [
  {
   "cell_type": "code",
   "execution_count": 18,
   "id": "6d53e42b",
   "metadata": {},
   "outputs": [
    {
     "ename": "",
     "evalue": "",
     "output_type": "error",
     "traceback": [
      "\u001b[1;31mCannot execute code, session has been disposed. Please try restarting the Kernel."
     ]
    },
    {
     "ename": "",
     "evalue": "",
     "output_type": "error",
     "traceback": [
      "\u001b[1;31mCannot execute code, session has been disposed. Please try restarting the Kernel. \n",
      "\u001b[1;31mView Jupyter <a href='command:jupyter.viewOutput'>log</a> for further details."
     ]
    }
   ],
   "source": [
    "#1. Age Calculator: Ask the user to enter their birthdate. Calculate and print their age in years, months, and days.\n",
    "from datetime import datetime\n",
    "\n",
    "print_age = input(\"Enter your birthdate (YYYY-MM-DD): \")\n",
    "\n",
    "birthdate = datetime.strptime(print_age, \"%Y-%m-%d\")\n",
    "today = datetime.today()\n",
    "days_diff = (today - birthdate).days\n",
    "\n",
    "years = days_diff // 365\n",
    "remaining_days = days_diff % 365\n",
    "months = remaining_days // 30\n",
    "days = remaining_days % 30\n",
    "\n",
    "print(f'You are {years} years, {months} months, and {days} days old.')"
   ]
  },
  {
   "cell_type": "code",
   "execution_count": null,
   "id": "7d190cc2",
   "metadata": {},
   "outputs": [],
   "source": [
    "#2. Days Until Next Birthday: Similar to the first exercise, but this time, calculate and print the number of days remaining until the user's next birthday.\n",
    "from datetime import datetime\n",
    "\n",
    "print_age = input(\"Enter your birthdate (YYYY-MM-DD): \")\n",
    "\n",
    "birthdate = datetime.strptime(print_age, \"%Y-%m-%d\")\n",
    "today = datetime.today()\n",
    "this_year_birthday = birthdate.replace(year=today.year)\n",
    "\n",
    "if this_year_birthday < today:\n",
    "    next_birthday = birthdate.replace(year=today.year + 1)\n",
    "else:\n",
    "    next_birthday = this_year_birthday\n",
    "days_remaining = (next_birthday - today).days\n",
    "\n",
    "print(f'Your next birthday is in {days_remaining} days')"
   ]
  },
  {
   "cell_type": "code",
   "execution_count": null,
   "id": "b3713a2e",
   "metadata": {},
   "outputs": [],
   "source": [
    "#3. Meeting Scheduler: Ask the user to enter the current date and time, as well as the duration of a meeting in hours and minutes. Calculate and print the date and time when the meeting will end.\n",
    "from datetime import datetime, timedelta\n",
    "\n",
    "current_datetime_str = input(\"Enter current date and time (YYYY-MM-DD HH:MM): \")\n",
    "\n",
    "current_datetime = datetime.strptime(current_datetime_str, \"%Y-%m-%d %H:%M\")\n",
    "hours = int(input(\"Enter meeting duration - Hours: \"))\n",
    "minutes = int(input(\"Enter meeting duration - Minutes: \"))\n",
    "\n",
    "meeting_duration = timedelta(hours=hours, minutes=minutes)\n",
    "end_datetime = current_datetime + meeting_duration\n",
    "\n",
    "print(\"The meeting will end at:\", end_datetime.strftime(\"%Y-%m-%d %H:%M\"))"
   ]
  },
  {
   "cell_type": "code",
   "execution_count": null,
   "id": "fc564905",
   "metadata": {},
   "outputs": [],
   "source": [
    "#4. Timezone Converter: Create a program that allows the user to enter a date and time along with their current timezone, and then convert and print the date and time in another timezone of their choice.\n",
    "from datetime import datetime\n",
    "import pytz\n",
    "\n",
    "datetime_str = input(\"Enter date and time (YYYY-MM-DD HH:MM): \")\n",
    "\n",
    "current_timezone_str = input(\"Enter your current timezone (e.g., Asia/Tashkent): \")\n",
    "\n",
    "target_timezone_str = input(\"Enter the target timezone (e.g., US/Eastern): \")\n",
    "\n",
    "naive_datetime = datetime.strptime(datetime_str, \"%Y-%m-%d %H:%M\")\n",
    "\n",
    "current_timezone = pytz.timezone(current_timezone_str)\n",
    "localized_datetime = current_timezone.localize(naive_datetime)\n",
    "\n",
    "target_timezone = pytz.timezone(target_timezone_str)\n",
    "converted_datetime = localized_datetime.astimezone(target_timezone)\n",
    "\n",
    "print(\"The date and time in\", target_timezone_str, \"is:\", converted_datetime.strftime(\"%Y-%m-%d %H:%M\"))\n"
   ]
  },
  {
   "cell_type": "code",
   "execution_count": 2,
   "id": "71734b5a",
   "metadata": {},
   "outputs": [
    {
     "name": "stdout",
     "output_type": "stream",
     "text": [
      "Countdown complete!ays, 0 hours, 0 minutes, 0 secondss\n"
     ]
    }
   ],
   "source": [
    "#5. Countdown Timer: Implement a countdown timer. Ask the user to input a future date and time, and then continuously print the time remaining until that point in regular intervals (e.g., every second).\n",
    "from datetime import datetime\n",
    "import time\n",
    "\n",
    "future_datetime_str = input(\"Enter future date and time (YYYY-MM-DD HH:MM:SS): \")\n",
    "\n",
    "future_datetime = datetime.strptime(future_datetime_str, \"%Y-%m-%d %H:%M:%S\")\n",
    "\n",
    "while True:\n",
    "    now = datetime.now()\n",
    "    \n",
    "    diff = future_datetime - now\n",
    "\n",
    "    if diff.total_seconds() <= 0:\n",
    "        print(\"Countdown complete!\")\n",
    "        break\n",
    "\n",
    "    days = diff.days\n",
    "    hours, remainder = divmod(diff.seconds, 3600)\n",
    "    minutes, seconds = divmod(remainder, 60)\n",
    "\n",
    "    print(f\"Time remaining: {days} days, {hours} hours, {minutes} minutes, {seconds} seconds\", end='\\r')\n",
    "\n",
    "    time.sleep(1)\n"
   ]
  },
  {
   "cell_type": "code",
   "execution_count": 4,
   "id": "cb6840a9",
   "metadata": {},
   "outputs": [
    {
     "name": "stdout",
     "output_type": "stream",
     "text": [
      "The email address is valid.\n"
     ]
    }
   ],
   "source": [
    "#6. Email Validator: Write a program that validates email addresses. Ask the user to input an email address, and check if it follows a valid email format.\n",
    "import re\n",
    "\n",
    "email = input(\"Enter an email address: \")\n",
    "\n",
    "pattern = r'^[\\w\\.-]+@[\\w\\.-]+\\.\\w+$'\n",
    "\n",
    "if re.match(pattern, email):\n",
    "    print(\"The email address is valid.\")\n",
    "else:\n",
    "    print(\"Invalid email address format.\")\n"
   ]
  },
  {
   "cell_type": "code",
   "execution_count": 7,
   "id": "b9372cd2",
   "metadata": {},
   "outputs": [
    {
     "name": "stdout",
     "output_type": "stream",
     "text": [
      "Formatted phone number: (123) 456-7890\n"
     ]
    }
   ],
   "source": [
    "#7. Phone Number Formatter: Create a program that takes a phone number as input and formats it according to a standard format. For example, convert \"1234567890\" to \"(123) 456-7890\".\n",
    "\n",
    "phone = input(\"Enter a 10-digit phone number: \")\n",
    "\n",
    "# Remove any spaces or special characters just in case\n",
    "phone = ''.join(filter(str.isdigit, phone))\n",
    "\n",
    "if len(phone) == 10:\n",
    "    formatted_phone = f\"({phone[0:3]}) {phone[3:6]}-{phone[6:10]}\"\n",
    "    print(\"Formatted phone number:\", formatted_phone)\n",
    "else:\n",
    "    print(\"Invalid phone number. Please enter exactly 10 digits.\")\n"
   ]
  },
  {
   "cell_type": "code",
   "execution_count": null,
   "id": "d52586f6",
   "metadata": {},
   "outputs": [
    {
     "name": "stdout",
     "output_type": "stream",
     "text": [
      "Password is strong.\n"
     ]
    }
   ],
   "source": [
    "#8. Password Strength Checker: Implement a password strength checker. Ask the user to input a password and check if it meets certain criteria (e.g., minimum length, contains at least one uppercase letter, one lowercase letter, and one digit).\n",
    "import re\n",
    "\n",
    "password = input(\"Enter a password: \")\n",
    "\n",
    "length_ok = len(password) >= 8\n",
    "uppercase_ok = re.search(r'[A-Z]', password) is not None\n",
    "lowercase_ok = re.search(r'[a-z]', password) is not None\n",
    "digit_ok = re.search(r'\\d', password) is not None\n",
    "\n",
    "if length_ok and uppercase_ok and lowercase_ok and digit_ok:\n",
    "    print(\"Password is strong.\")\n",
    "else:\n",
    "    print(\"Password is weak. It must have:\")\n",
    "    if not length_ok:\n",
    "        print(\"- At least 8 characters\")\n",
    "    if not uppercase_ok:\n",
    "        print(\"- At least one uppercase letter\")\n",
    "    if not lowercase_ok:\n",
    "        print(\"- At least one lowercase letter\")\n",
    "    if not digit_ok:\n",
    "        print(\"- At least one digit\")"
   ]
  },
  {
   "cell_type": "code",
   "execution_count": 11,
   "id": "0e74f8d0",
   "metadata": {},
   "outputs": [
    {
     "name": "stdout",
     "output_type": "stream",
     "text": [
      "Occurrences of 'text': [17, 28, 49]\n"
     ]
    }
   ],
   "source": [
    "#9. Word Finder: Develop a program that finds all occurrences of a specific word in a given text. Ask the user to input a word, and then search for and print all occurrences of that word in a sample text.\n",
    "text = \"This is a sample text. This text is for testing. Text analysis is useful.\"\n",
    "word = input(\"Enter the word to find: \")\n",
    "\n",
    "matches = [m.start() for m in re.finditer(word, text, re.IGNORECASE)]\n",
    "\n",
    "print(f\"Occurrences of '{word}': {matches}\")"
   ]
  },
  {
   "cell_type": "code",
   "execution_count": 14,
   "id": "ba6b1da7",
   "metadata": {},
   "outputs": [
    {
     "name": "stdout",
     "output_type": "stream",
     "text": [
      "Dates found in the text:\n",
      "1995-06-06\n",
      "2022-06-08\n"
     ]
    }
   ],
   "source": [
    "#10. Date Extractor: Write a program that extracts dates from a given text. Ask the user to input a text, and then identify and print all the dates present in the text.\n",
    "import re\n",
    "\n",
    "text = input(\"Enter text containing dates: \")\n",
    "\n",
    "pattern = r'\\b\\d{4}-\\d{2}-\\d{2}\\b'  # Matches dates in YYYY-MM-DD format\n",
    "dates = re.findall(pattern, text)\n",
    "\n",
    "if dates:\n",
    "    print(\"Dates found in the text:\")\n",
    "    for date in dates:\n",
    "        print(date)\n",
    "else:\n",
    "    print(\"No dates found in the text.\")"
   ]
  }
 ],
 "metadata": {
  "kernelspec": {
   "display_name": "base",
   "language": "python",
   "name": "python3"
  },
  "language_info": {
   "codemirror_mode": {
    "name": "ipython",
    "version": 3
   },
   "file_extension": ".py",
   "mimetype": "text/x-python",
   "name": "python",
   "nbconvert_exporter": "python",
   "pygments_lexer": "ipython3",
   "version": "3.11.7"
  }
 },
 "nbformat": 4,
 "nbformat_minor": 5
}
