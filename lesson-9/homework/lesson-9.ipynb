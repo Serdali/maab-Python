{
 "cells": [
  {
   "cell_type": "code",
   "execution_count": 1,
   "id": "b08a23d2",
   "metadata": {},
   "outputs": [
    {
     "name": "stdout",
     "output_type": "stream",
     "text": [
      "Area: 50.27\n",
      "Perimeter: 25.13\n"
     ]
    }
   ],
   "source": [
    "# 1. Circle Class. Write a Python program to create a class representing a Circle. Include methods to calculate its area and perimeter.\n",
    "class Circle:\n",
    "    def __init__(self, radius):\n",
    "        self.radius = radius\n",
    "        self.pi = 3.14159\n",
    "\n",
    "    def area(self):\n",
    "        return self.pi * self.radius ** 2\n",
    "    \n",
    "    def perimeter(self):\n",
    "        return 2 * self.pi * self.radius\n",
    "    \n",
    "my_circle = Circle(4)\n",
    "print(f\"Area: {my_circle.area():.2f}\")\n",
    "print(f\"Perimeter: {my_circle.perimeter():.2f}\")"
   ]
  },
  {
   "cell_type": "code",
   "execution_count": 11,
   "id": "1bb40358",
   "metadata": {},
   "outputs": [
    {
     "name": "stdout",
     "output_type": "stream",
     "text": [
      "Alex from USA. Born: 1990-05-15\n",
      "Age: 35\n"
     ]
    }
   ],
   "source": [
    "# 2. Person Class. Write a Python program to create a Person class. Include attributes like name, country, and date of birth. Implement a method to determine the person's age.\n",
    "from datetime import datetime\n",
    "class Person:\n",
    "    def __init__(self, name, country, dob):\n",
    "        self.name = name\n",
    "        self.country = country\n",
    "        self.dob = datetime.strptime(dob, \"%Y-%m-%d\").date()\n",
    "\n",
    "    def calc_age(self):\n",
    "        today = datetime.today()\n",
    "        return today.year - self.dob.year - ((today.month, today.day) < (self.dob.month, self.dob.day))\n",
    "    \n",
    "    def __repr__(self):\n",
    "        return f'{self.name} from {self.country}. Born: {self.dob.strftime(\"%Y-%m-%d\")}'\n",
    "    \n",
    "person1 = Person('Alex', 'USA', \"1990-05-15\")\n",
    "print(person1)\n",
    "print(f'Age: {person1.calc_age()}')"
   ]
  },
  {
   "cell_type": "code",
   "execution_count": null,
   "id": "01dbcf70",
   "metadata": {},
   "outputs": [
    {
     "name": "stdout",
     "output_type": "stream",
     "text": [
      "5 + 3 = 8\n",
      "5 - 3 = 2\n",
      "5 * 3 = 15\n",
      "5 / 3 = 1.6666666666666667\n"
     ]
    }
   ],
   "source": [
    "# 3. Calculator Class. Write a Python program to create a Calculator class. Include methods for basic arithmetic operations.\n",
    "class Calculator:\n",
    "    def add(self, a, b):\n",
    "        return a + b\n",
    "    \n",
    "    def subtract(self, a, b):\n",
    "        return a - b\n",
    "    \n",
    "    def multiply(self, a, b):\n",
    "        return a * b\n",
    "    \n",
    "    def divide(self, a, b):\n",
    "        return a / b if b != 0 else \"Cannot divide by zero\"\n",
    "    \n",
    "calc = Calculator()\n",
    "\n",
    "print(\"5 + 3 =\", calc.add(5, 3))          \n",
    "print(\"5 - 3 =\", calc.subtract(5, 3))      \n",
    "print(\"5 * 3 =\", calc.multiply(5, 3))      \n",
    "print(\"5 / 3 =\", calc.divide(5, 3)) "
   ]
  },
  {
   "cell_type": "code",
   "execution_count": 20,
   "id": "bf96f89d",
   "metadata": {},
   "outputs": [
    {
     "name": "stdout",
     "output_type": "stream",
     "text": [
      "Circle with radius 5\n",
      "Area: 78.54\n",
      "Perimeter: 31.42\n",
      "\n",
      "Triangle with sides 3, 4, 5\n",
      "Area: 6.00\n",
      "Perimeter: 12.00\n",
      "\n",
      "Square with side length 4\n",
      "Area: 16.00\n",
      "Perimeter: 16.00\n",
      "\n"
     ]
    }
   ],
   "source": [
    "# 4. Shape and Subclasses. Write a Python program to create a class that represents a shape. Include methods to calculate its area and perimeter. Implement subclasses for different shapes like Circle, Triangle, and Square.\n",
    "import math\n",
    "\n",
    "class Shape:\n",
    "    def area(self):\n",
    "        pass\n",
    "\n",
    "    def perimeter(self):\n",
    "        pass\n",
    "\n",
    "class CircleShape(Shape):\n",
    "    def __init__(self, radius):\n",
    "        self.radius = radius\n",
    "\n",
    "    def area(self):\n",
    "        return math.pi * self.radius ** 2\n",
    "\n",
    "    def perimeter(self):\n",
    "        return 2 * math.pi * self.radius\n",
    "    \n",
    "    def __str__(self):\n",
    "        return f\"Circle with radius {self.radius}\"\n",
    "\n",
    "class Triangle(Shape):\n",
    "    def __init__(self, a, b, c):\n",
    "        self.a = a\n",
    "        self.b = b\n",
    "        self.c = c\n",
    "\n",
    "    def perimeter(self):\n",
    "        return self.a + self.b + self.c\n",
    "\n",
    "    def area(self):\n",
    "        s = self.perimeter() / 2\n",
    "        return math.sqrt(s * (s - self.a) * (s - self.b) * (s - self.c))\n",
    "    \n",
    "    def __str__(self):\n",
    "        return f\"Triangle with sides {self.a}, {self.b}, {self.c}\"\n",
    "\n",
    "class Square(Shape):\n",
    "    def __init__(self, side):\n",
    "        self.side = side\n",
    "\n",
    "    def area(self):\n",
    "        return self.side ** 2\n",
    "\n",
    "    def perimeter(self):\n",
    "        return 4 * self.side\n",
    "    \n",
    "    def __str__(self):\n",
    "        return f\"Square with side length {self.side}\"\n",
    "          \n",
    "shapes = [\n",
    "    Circle(5),\n",
    "    Triangle(3, 4, 5),\n",
    "    Square(4),\n",
    "]\n",
    "\n",
    "for shape in shapes:\n",
    "    print(shape)\n",
    "    print(f\"Area: {shape.area():.2f}\")\n",
    "    print(f\"Perimeter: {shape.perimeter():.2f}\")\n",
    "    print()"
   ]
  },
  {
   "cell_type": "code",
   "execution_count": null,
   "id": "a21b1d9a",
   "metadata": {},
   "outputs": [
    {
     "name": "stdout",
     "output_type": "stream",
     "text": [
      "Found: 40\n",
      "Not found: 90\n"
     ]
    }
   ],
   "source": [
    "# 5. Binary Search Tree Class. Write a Python program to create a class representing a binary search tree. Include methods for inserting and searching for elements in the binary tree.\n",
    "# Using the given BST class\n",
    "class Node:\n",
    "    def __init__(self, key):\n",
    "        self.left = None\n",
    "        self.right = None\n",
    "        self.val = key\n",
    "\n",
    "class BST:\n",
    "    def __init__(self):\n",
    "        self.root = None\n",
    "\n",
    "    def insert(self, key):\n",
    "        def _insert(root, key):\n",
    "            if root is None:\n",
    "                return Node(key)\n",
    "            elif key < root.val:\n",
    "                root.left = _insert(root.left, key)\n",
    "            else:\n",
    "                root.right = _insert(root.right, key)\n",
    "            return root\n",
    "\n",
    "        self.root = _insert(self.root, key)\n",
    "\n",
    "    def search(self, key):\n",
    "        def _search(root, key):\n",
    "            if root is None or root.val == key:\n",
    "                return root\n",
    "            if key < root.val:\n",
    "                return _search(root.left, key)\n",
    "            return _search(root.right, key)\n",
    "\n",
    "        return _search(self.root, key)\n",
    "\n",
    "\n",
    "tree = BST()\n",
    "values_to_insert = [50, 30, 70, 20, 40, 60, 80]\n",
    "for val in values_to_insert:\n",
    "    tree.insert(val)\n",
    "\n",
    "\n",
    "search_values = [40, 90]\n",
    "for val in search_values:\n",
    "    result = tree.search(val)\n",
    "    if result:\n",
    "        print(f\"Found: {result.val}\")\n",
    "    else:\n",
    "        print(f\"Not found: {val}\")"
   ]
  },
  {
   "cell_type": "code",
   "execution_count": null,
   "id": "19959a55",
   "metadata": {},
   "outputs": [
    {
     "name": "stdout",
     "output_type": "stream",
     "text": [
      "15\n",
      "10\n",
      "5\n",
      "None\n"
     ]
    }
   ],
   "source": [
    "# 6. Stack Data Structure. Write a Python program to create a class representing a stack data structure. Include methods for pushing and popping elements.\n",
    "class Stack:\n",
    "    def __init__(self):\n",
    "        self.stack = []\n",
    "\n",
    "    def push(self, item):\n",
    "        self.stack.append(item)\n",
    "\n",
    "    def pop(self):\n",
    "        return self.stack.pop() if self.stack else None\n",
    "s = Stack()\n",
    "\n",
    "s.push(5)\n",
    "s.push(10)\n",
    "s.push(15)\n",
    "\n",
    "print(s.pop())  \n",
    "print(s.pop())  \n",
    "print(s.pop())  \n",
    "print(s.pop())  "
   ]
  },
  {
   "cell_type": "code",
   "execution_count": 24,
   "id": "0295a222",
   "metadata": {},
   "outputs": [
    {
     "name": "stdout",
     "output_type": "stream",
     "text": [
      "30 -> 20 -> 10 -> None\n",
      "30 -> 10 -> None\n",
      "10 -> None\n"
     ]
    }
   ],
   "source": [
    "# 7. Linked List Data Structure. Write a Python program to create a class representing a linked list data structure. Include methods for displaying linked list data, inserting, and deleting nodes.\n",
    "class ListNode:\n",
    "    def __init__(self, data):\n",
    "        self.data = data\n",
    "        self.next = None\n",
    "\n",
    "class LinkedList:\n",
    "    def __init__(self):\n",
    "        self.head = None\n",
    "\n",
    "    def insert(self, data):\n",
    "        new_node = ListNode(data)\n",
    "        new_node.next = self.head\n",
    "        self.head = new_node\n",
    "\n",
    "    def delete(self, key):\n",
    "        temp = self.head\n",
    "        prev = None\n",
    "        while temp and temp.data != key:\n",
    "            prev = temp\n",
    "            temp = temp.next\n",
    "        if temp:\n",
    "            if prev:\n",
    "                prev.next = temp.next\n",
    "            else:\n",
    "                self.head = temp.next\n",
    "\n",
    "    def display(self):\n",
    "        temp = self.head\n",
    "        while temp:\n",
    "            print(temp.data, end=' -> ')\n",
    "            temp = temp.next\n",
    "        print(\"None\")\n",
    "\n",
    "ll = LinkedList()\n",
    "ll.insert(10)\n",
    "ll.insert(20)\n",
    "ll.insert(30)\n",
    "\n",
    "ll.display()  \n",
    "\n",
    "ll.delete(20)\n",
    "ll.display()  \n",
    "\n",
    "ll.delete(30)\n",
    "ll.display()"
   ]
  },
  {
   "cell_type": "code",
   "execution_count": 25,
   "id": "8eaca323",
   "metadata": {},
   "outputs": [
    {
     "name": "stdout",
     "output_type": "stream",
     "text": [
      "Total: 9.5\n",
      "Total after removing Banana: 7.5\n"
     ]
    }
   ],
   "source": [
    "# 8. Shopping Cart Class. Write a Python program to create a class representing a shopping cart. Include methods for adding and removing items, and calculating the total price.\n",
    "class ShoppingCart:\n",
    "    def __init__(self):\n",
    "        self.items = []\n",
    "\n",
    "    def add_item(self, item, price):\n",
    "        self.items.append((item, price))\n",
    "\n",
    "    def remove_item(self, item):\n",
    "        self.items = [i for i in self.items if i[0] != item]\n",
    "\n",
    "    def total_price(self):\n",
    "        return sum(price for _, price in self.items)\n",
    "\n",
    "\n",
    "cart = ShoppingCart()\n",
    "cart.add_item(\"Apple\", 3.5)\n",
    "cart.add_item(\"Banana\", 2.0)\n",
    "cart.add_item(\"Orange\", 4.0)\n",
    "\n",
    "print(\"Total:\", cart.total_price())  # Output: Total: 9.5\n",
    "\n",
    "cart.remove_item(\"Banana\")\n",
    "print(\"Total after removing Banana:\", cart.total_price())"
   ]
  },
  {
   "cell_type": "code",
   "execution_count": 26,
   "id": "4e20a40e",
   "metadata": {},
   "outputs": [
    {
     "name": "stdout",
     "output_type": "stream",
     "text": [
      "[5, 10, 15]\n",
      "Popped: 15\n",
      "[5, 10]\n"
     ]
    }
   ],
   "source": [
    "# 9. Stack with Display. Write a Python program to create a class representing a stack data structure. Include methods for pushing, popping, and displaying elements.\n",
    "class StackWithDisplay:\n",
    "    def __init__(self):\n",
    "        self.stack = []\n",
    "\n",
    "    def push(self, item):\n",
    "        self.stack.append(item)\n",
    "\n",
    "    def pop(self):\n",
    "        return self.stack.pop() if self.stack else None\n",
    "\n",
    "    def display(self):\n",
    "        print(self.stack)\n",
    "\n",
    "s = StackWithDisplay()\n",
    "s.push(5)\n",
    "s.push(10)\n",
    "s.push(15)\n",
    "\n",
    "s.display()  \n",
    "\n",
    "print(\"Popped:\", s.pop())  \n",
    "s.display()"
   ]
  },
  {
   "cell_type": "code",
   "execution_count": 27,
   "id": "7c25c739",
   "metadata": {},
   "outputs": [
    {
     "name": "stdout",
     "output_type": "stream",
     "text": [
      "A\n",
      "B\n",
      "C\n",
      "None\n"
     ]
    }
   ],
   "source": [
    "# 10. Queue Data Structure. Write a Python program to create a class representing a queue data structure. Include methods for enqueueing and dequeueing elements.\n",
    "class Queue:\n",
    "    def __init__(self):\n",
    "        self.queue = []\n",
    "\n",
    "    def enqueue(self, item):\n",
    "        self.queue.append(item)\n",
    "\n",
    "    def dequeue(self):\n",
    "        return self.queue.pop(0) if self.queue else None\n",
    "    \n",
    "q = Queue()\n",
    "q.enqueue(\"A\")\n",
    "q.enqueue(\"B\")\n",
    "q.enqueue(\"C\")\n",
    "\n",
    "print(q.dequeue())  \n",
    "print(q.dequeue()) \n",
    "print(q.dequeue())  \n",
    "print(q.dequeue())"
   ]
  },
  {
   "cell_type": "code",
   "execution_count": null,
   "id": "d3287346",
   "metadata": {},
   "outputs": [
    {
     "name": "stdout",
     "output_type": "stream",
     "text": [
      "Balance after deposit: 1500\n",
      "Withdraw 600 successful? True\n",
      "Balance: 900\n",
      "Withdraw 1000 successful? False\n",
      "Balance: 900\n"
     ]
    }
   ],
   "source": [
    "# 11. Bank Class. Write a Python program to create a class representing a bank. Include methods for managing customer accounts and transactions.\n",
    "class BankAccount:\n",
    "    def __init__(self, account_number, name, balance=0):\n",
    "        self.account_number = account_number\n",
    "        self.name = name\n",
    "        self.balance = balance\n",
    "\n",
    "    def deposit(self, amount):\n",
    "        self.balance += amount\n",
    "\n",
    "    def withdraw(self, amount):\n",
    "        if amount <= self.balance:\n",
    "            self.balance -= amount\n",
    "            return True\n",
    "        else:\n",
    "            return False\n",
    "\n",
    "    def get_balance(self):\n",
    "        return self.balance\n",
    "    \n",
    "acc = BankAccount(\"12345\", \"John Doe\", 1000)\n",
    "\n",
    "acc.deposit(500)\n",
    "print(\"Balance after deposit:\", acc.get_balance())  \n",
    "\n",
    "success = acc.withdraw(600)\n",
    "print(\"Withdraw 600 successful?\", success)  \n",
    "print(\"Balance:\", acc.get_balance())        \n",
    "\n",
    "success = acc.withdraw(1000)\n",
    "print(\"Withdraw 1000 successful?\", success)  \n",
    "print(\"Balance:\", acc.get_balance())"
   ]
  }
 ],
 "metadata": {
  "kernelspec": {
   "display_name": "base",
   "language": "python",
   "name": "python3"
  },
  "language_info": {
   "codemirror_mode": {
    "name": "ipython",
    "version": 3
   },
   "file_extension": ".py",
   "mimetype": "text/x-python",
   "name": "python",
   "nbconvert_exporter": "python",
   "pygments_lexer": "ipython3",
   "version": "3.11.7"
  }
 },
 "nbformat": 4,
 "nbformat_minor": 5
}
