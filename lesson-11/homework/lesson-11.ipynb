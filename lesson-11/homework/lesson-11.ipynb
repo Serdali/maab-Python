{
 "cells": [
  {
   "cell_type": "markdown",
   "id": "d269b684",
   "metadata": {},
   "source": [
    "# 1. Create your own virtual environment and install some python packages.\n",
    "\n",
    "1 step : using terminal type this code: python -m venv myenv\n",
    "\n",
    "2 step : activate env using following code: myenv\\scripts\\activate\n",
    "\n",
    "3 step: using following code to install some packages: pip install pandas numpy matplotlib"
   ]
  },
  {
   "cell_type": "code",
   "execution_count": null,
   "id": "5df4076c",
   "metadata": {},
   "outputs": [],
   "source": [
    "# 2. Create custom modules\n",
    "from math_operations import add, subtract, multiply, divide\n",
    "from string_utils import reverse_string, count_vowels\n",
    "\n",
    "# Math operations\n",
    "print(add(10, 5))         \n",
    "print(subtract(10, 5))    \n",
    "print(multiply(10, 5))    \n",
    "print(divide(10, 0))      \n",
    "\n",
    "# String utilities\n",
    "print(reverse_string(\"hello\"))       \n",
    "print(count_vowels(\"My name is Alex Cross\"))    "
   ]
  },
  {
   "cell_type": "code",
   "execution_count": 3,
   "id": "07584b92",
   "metadata": {},
   "outputs": [
    {
     "name": "stdout",
     "output_type": "stream",
     "text": [
      "Area: 78.53981633974483\n",
      "Circumference: 31.41592653589793\n",
      "File content: Hello, world!\n"
     ]
    }
   ],
   "source": [
    "# 3. Create custom packages\n",
    "from geometry.circle import calculate_area, calculate_circumference\n",
    "\n",
    "print(\"Area:\", calculate_area(5))\n",
    "print(\"Circumference:\", calculate_circumference(5))\n",
    "\n",
    "\n",
    "from file_operations.file_reader import read_file\n",
    "from file_operations.file_writer import write_file\n",
    "\n",
    "write_file(\"example.txt\", \"Hello, world!\")\n",
    "print(\"File content:\", read_file(\"example.txt\"))"
   ]
  }
 ],
 "metadata": {
  "kernelspec": {
   "display_name": "base",
   "language": "python",
   "name": "python3"
  },
  "language_info": {
   "codemirror_mode": {
    "name": "ipython",
    "version": 3
   },
   "file_extension": ".py",
   "mimetype": "text/x-python",
   "name": "python",
   "nbconvert_exporter": "python",
   "pygments_lexer": "ipython3",
   "version": "3.11.7"
  }
 },
 "nbformat": 4,
 "nbformat_minor": 5
}
