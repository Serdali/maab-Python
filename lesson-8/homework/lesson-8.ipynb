{
 "cells": [
  {
   "cell_type": "markdown",
   "id": "0181d6e7",
   "metadata": {},
   "source": [
    "### Exception Handling Exercises"
   ]
  },
  {
   "cell_type": "code",
   "execution_count": null,
   "id": "836f161f",
   "metadata": {},
   "outputs": [],
   "source": [
    "# 1. Write a Python program to handle a ZeroDivisionError exception when dividing a number by zero.\n",
    "try:\n",
    "    num = int(input('Enter a number: '))\n",
    "    res = num / 0\n",
    "except ZeroDivisionError:\n",
    "    print('Error: Division by zero is not allowed')"
   ]
  },
  {
   "cell_type": "code",
   "execution_count": null,
   "id": "83d8aacd",
   "metadata": {},
   "outputs": [],
   "source": [
    "# 2. Write a Python program that prompts the user to input an integer and raises a ValueError exception if the input is not a valid integer.\n",
    "try:\n",
    "    num = int(input('Enter an integer: '))\n",
    "except ValueError:\n",
    "    print('Error: That was not a valid integer')"
   ]
  },
  {
   "cell_type": "code",
   "execution_count": null,
   "id": "e8b746d0",
   "metadata": {},
   "outputs": [],
   "source": [
    "# 3. Write a Python program that opens a file and handles a FileNotFoundError exception if the file does not exist.\n",
    "try:\n",
    "    with open('textfile.txt', 'r') as file:\n",
    "        content = file.read()\n",
    "except FileNotFoundError:\n",
    "    print('Error: File not found')\n"
   ]
  },
  {
   "cell_type": "code",
   "execution_count": null,
   "id": "077d8925",
   "metadata": {},
   "outputs": [],
   "source": [
    "# 4. Write a Python program that prompts the user to input two numbers and raises a TypeError exception if the inputs are not numerical.\n",
    "try:\n",
    "    a = int(input('Enter first number: '))\n",
    "    b = int(input('Enter second number: '))\n",
    "    result = a + b\n",
    "except ValueError:\n",
    "    raise TypeError('Error: Both inputs must be numbers')"
   ]
  },
  {
   "cell_type": "code",
   "execution_count": null,
   "id": "59530a1c",
   "metadata": {},
   "outputs": [],
   "source": [
    "# 5. Write a Python program that opens a file and handles a PermissionError exception if there is a permission issue.\n",
    "try:\n",
    "    with open('/C:/secret.txt', 'r') as file:\n",
    "        data = file.read()\n",
    "except PermissionError:\n",
    "    print('Error: You do not have permission to access this file')"
   ]
  },
  {
   "cell_type": "code",
   "execution_count": null,
   "id": "1dea8fe4",
   "metadata": {},
   "outputs": [],
   "source": [
    "# 6. Write a Python program that executes an operation on a list and handles an IndexError exception if the index is out of range.\n",
    "try:\n",
    "    my_list = [1, 2, 3]\n",
    "    print(my_list[5])\n",
    "except IndexError:\n",
    "    print('Error: Index is out of range')"
   ]
  },
  {
   "cell_type": "code",
   "execution_count": null,
   "id": "be4419d4",
   "metadata": {},
   "outputs": [],
   "source": [
    "# 7. Write a Python program that prompts the user to input a number and handles a KeyboardInterrupt exception if the user cancels the input.\n",
    "try:\n",
    "    num = input('Enter a number (Ctrl+C to exit): ')\n",
    "except KeyboardInterrupt:\n",
    "    print('\\nInput cancelled by user')"
   ]
  },
  {
   "cell_type": "code",
   "execution_count": null,
   "id": "f89c0d18",
   "metadata": {},
   "outputs": [],
   "source": [
    "# 8. Write a Python program that executes division and handles an ArithmeticError exception if there is an arithmetic error.\n",
    "try:\n",
    "    result = 10 / 0\n",
    "except ArithmeticError as e:\n",
    "    print(f'Arithmetic error occurred: {e}')\n"
   ]
  },
  {
   "cell_type": "code",
   "execution_count": null,
   "id": "cb9d8db9",
   "metadata": {},
   "outputs": [],
   "source": [
    "# 9. Write a Python program that opens a file and handles a UnicodeDecodeError exception if there is an encoding issue.\n",
    "try:\n",
    "    with open('somefile.txt', encoding='ascii') as file:\n",
    "        content = file.read()\n",
    "except UnicodeDecodeError:\n",
    "    print('Error: Unicode decoding failed due to incompatible encoding')\n"
   ]
  },
  {
   "cell_type": "code",
   "execution_count": null,
   "id": "1504f146",
   "metadata": {},
   "outputs": [],
   "source": [
    "# 10. Write a Python program that executes a list operation and handles an AttributeError exception if the attribute does not exist.\n",
    "try:\n",
    "    my_list = [1, 2, 3]\n",
    "    my_list.upper()\n",
    "except AttributeError:\n",
    "    print(\"Error: 'list' object has no attribute 'upper'.\")"
   ]
  },
  {
   "cell_type": "markdown",
   "id": "885dd901",
   "metadata": {},
   "source": [
    "### File Input/Output Exercises"
   ]
  },
  {
   "cell_type": "code",
   "execution_count": 2,
   "id": "44516335",
   "metadata": {},
   "outputs": [
    {
     "name": "stdout",
     "output_type": "stream",
     "text": [
      "Hello world\n",
      "Python programming is fun.\n",
      "Data,science,AI\n",
      "End of file\n",
      "\n"
     ]
    }
   ],
   "source": [
    "# 1. Write a Python program to read an entire text file\n",
    "with open('file.txt', 'r') as f:\n",
    "    print(f.read())"
   ]
  },
  {
   "cell_type": "code",
   "execution_count": 3,
   "id": "c71986fe",
   "metadata": {},
   "outputs": [
    {
     "name": "stdout",
     "output_type": "stream",
     "text": [
      "Hello world\n",
      "Python programming is fun.\n",
      "Data,science,AI\n",
      "End of file\n"
     ]
    }
   ],
   "source": [
    "# 2. Write a Python program to read first n lines of a file.\n",
    "n = 5\n",
    "with open('file.txt', 'r') as f:\n",
    "    for i in range(n):\n",
    "        print(f.readline(), end='')"
   ]
  },
  {
   "cell_type": "code",
   "execution_count": 4,
   "id": "cb489d73",
   "metadata": {},
   "outputs": [
    {
     "name": "stdout",
     "output_type": "stream",
     "text": [
      "Hello world\n",
      "Python programming is fun.\n",
      "Data,science,AI\n",
      "End of file\n",
      "\n",
      "Appended text.\n"
     ]
    }
   ],
   "source": [
    "# 3. Write a Python program to append text to a file and display the text.\n",
    "with open('file.txt', 'a') as f:\n",
    "    f.write('\\nAppended text.')\n",
    "\n",
    "with open('file.txt', 'r') as f:\n",
    "    print(f.read())"
   ]
  },
  {
   "cell_type": "code",
   "execution_count": null,
   "id": "e431a371",
   "metadata": {},
   "outputs": [
    {
     "name": "stdout",
     "output_type": "stream",
     "text": [
      "End of file\n",
      "\n",
      "Appended text."
     ]
    }
   ],
   "source": [
    "# 4. Write a Python program to read last n lines of a file.\n",
    "n = 3  # number of lines to read from the end\n",
    "\n",
    "with open('file.txt', 'r') as f:\n",
    "    lines = f.readlines()\n",
    "\n",
    "for line in lines[-n:]:\n",
    "    print(line, end='')"
   ]
  },
  {
   "cell_type": "code",
   "execution_count": null,
   "id": "b90fe33d",
   "metadata": {},
   "outputs": [
    {
     "name": "stdout",
     "output_type": "stream",
     "text": [
      "['Hello world\\n', 'Python programming is fun.\\n', 'Data,science,AI\\n', 'End of file\\n', '\\n', 'Appended text.']\n"
     ]
    }
   ],
   "source": [
    "# 5. Write a Python program to read a file line by line and store it into a list.\n",
    "with open('file.txt', 'r') as f:\n",
    "    lines = f.readlines()\n",
    "print(lines)"
   ]
  },
  {
   "cell_type": "code",
   "execution_count": 10,
   "id": "2ccd26b6",
   "metadata": {},
   "outputs": [
    {
     "name": "stdout",
     "output_type": "stream",
     "text": [
      "Hello world\n",
      "Python programming is fun.\n",
      "Data,science,AI\n",
      "End of file\n",
      "\n",
      "Appended text.\n"
     ]
    }
   ],
   "source": [
    "# 6. Write a Python program to read a file line by line and store it into a variable.\n",
    "with open('file.txt', 'r') as f:\n",
    "    content = f.read()\n",
    "print(content)"
   ]
  },
  {
   "cell_type": "code",
   "execution_count": null,
   "id": "8ca2c3e3",
   "metadata": {},
   "outputs": [
    {
     "name": "stdout",
     "output_type": "stream",
     "text": [
      "['Hello world', 'Python programming is fun.', 'Data,science,AI', 'End of file', '', 'Appended text.']\n"
     ]
    }
   ],
   "source": [
    "# 7. Write a Python program to read a file line by line and store it into an array.\n",
    "with open('file.txt', 'r') as f:\n",
    "    array = [line.strip() for line in f]\n",
    "print(array)"
   ]
  },
  {
   "cell_type": "code",
   "execution_count": 12,
   "id": "73f215d8",
   "metadata": {},
   "outputs": [
    {
     "name": "stdout",
     "output_type": "stream",
     "text": [
      "Longest word: Data,science,AI\n"
     ]
    }
   ],
   "source": [
    "# 8. Write a Python program to find the longest words.\n",
    "with open('file.txt', 'r') as f:\n",
    "    words = f.read().split()\n",
    "    longest = max(words, key=len)\n",
    "print(\"Longest word:\", longest)"
   ]
  },
  {
   "cell_type": "code",
   "execution_count": 13,
   "id": "4d0c2580",
   "metadata": {},
   "outputs": [
    {
     "name": "stdout",
     "output_type": "stream",
     "text": [
      "Line count: 6\n"
     ]
    }
   ],
   "source": [
    "# 9. Write a Python program to count the number of lines in a text file.\n",
    "with open('file.txt', 'r') as f:\n",
    "    count = sum(1 for line in f)\n",
    "print(\"Line count:\", count)"
   ]
  },
  {
   "cell_type": "code",
   "execution_count": 14,
   "id": "b8debcd2",
   "metadata": {},
   "outputs": [
    {
     "name": "stdout",
     "output_type": "stream",
     "text": [
      "hello: 1\n",
      "world: 1\n",
      "python: 1\n",
      "programming: 1\n",
      "is: 1\n",
      "fun: 1\n",
      "data: 1\n",
      "science: 1\n",
      "ai: 1\n",
      "end: 1\n",
      "of: 1\n",
      "file: 1\n",
      "appended: 1\n",
      "text: 1\n"
     ]
    }
   ],
   "source": [
    "# 10. Write a Python program to count the frequency of words in a file.\n",
    "word_count = {}\n",
    "\n",
    "with open('file.txt', 'r') as f:\n",
    "    for line in f:\n",
    "        words = line.replace(',', ' ').replace('.', ' ').split()\n",
    "        for word in words:\n",
    "            word = word.lower()\n",
    "            if word in word_count:\n",
    "                word_count[word] += 1\n",
    "            else:\n",
    "                word_count[word] = 1\n",
    "\n",
    "# Print the word frequencies\n",
    "for word, count in word_count.items():\n",
    "    print(f\"{word}: {count}\")\n"
   ]
  },
  {
   "cell_type": "code",
   "execution_count": 15,
   "id": "c68320ef",
   "metadata": {},
   "outputs": [
    {
     "name": "stdout",
     "output_type": "stream",
     "text": [
      "File size: 83 bytes\n"
     ]
    }
   ],
   "source": [
    "# 11. Write a Python program to get the file size of a plain file.\n",
    "import os\n",
    "\n",
    "file_size = os.path.getsize('file.txt')\n",
    "print(f\"File size: {file_size} bytes\")\n"
   ]
  },
  {
   "cell_type": "code",
   "execution_count": null,
   "id": "66588b34",
   "metadata": {},
   "outputs": [],
   "source": [
    "# 12. Write a Python program to write a list to a file.\n",
    "lines = ['Line 1', 'Line 2', 'Line 3']\n",
    "with open('file.txt', 'w') as f:\n",
    "    for line in lines:\n",
    "        f.write(line + '\\n')"
   ]
  },
  {
   "cell_type": "code",
   "execution_count": 18,
   "id": "e9c2df18",
   "metadata": {},
   "outputs": [],
   "source": [
    "# 13. Write a Python program to copy the contents of a file to another file.\n",
    "with open('file.txt', 'r') as src, open('copy.txt', 'w') as dst:\n",
    "    dst.write(src.read())"
   ]
  },
  {
   "cell_type": "code",
   "execution_count": 21,
   "id": "4600feac",
   "metadata": {},
   "outputs": [
    {
     "name": "stdout",
     "output_type": "stream",
     "text": [
      "Line A1 Line B1\n",
      "Line A2 Line B2\n",
      "Line A3 Line B3\n"
     ]
    }
   ],
   "source": [
    "# 14. Write a Python program to combine each line from the first file with the corresponding line in the second file.\n",
    "with open('file1.txt', 'r') as f1, open('file2.txt', 'r') as f2:\n",
    "    for line1, line2 in zip(f1, f2):\n",
    "        print(line1.strip() + \" \" + line2.strip())"
   ]
  },
  {
   "cell_type": "code",
   "execution_count": 26,
   "id": "ef8f2d95",
   "metadata": {},
   "outputs": [
    {
     "name": "stdout",
     "output_type": "stream",
     "text": [
      "Line 3\n",
      "\n"
     ]
    }
   ],
   "source": [
    "# 15. Write a Python program to read a random line from a file.\n",
    "with open('file.txt', 'r') as f:\n",
    "    lines = f.readlines()\n",
    "    print(random.choice(lines))"
   ]
  },
  {
   "cell_type": "code",
   "execution_count": 27,
   "id": "fd6b9c4b",
   "metadata": {},
   "outputs": [
    {
     "name": "stdout",
     "output_type": "stream",
     "text": [
      "Is file closed? False\n",
      "Is file closed? True\n"
     ]
    }
   ],
   "source": [
    "# 16. Write a Python program to assess if a file is closed or not.\n",
    "f = open('file.txt', 'r')\n",
    "print(\"Is file closed?\", f.closed)\n",
    "f.close()\n",
    "print(\"Is file closed?\", f.closed)"
   ]
  },
  {
   "cell_type": "code",
   "execution_count": 28,
   "id": "cce6eb36",
   "metadata": {},
   "outputs": [
    {
     "name": "stdout",
     "output_type": "stream",
     "text": [
      "['Line 1', 'Line 2', 'Line 3']\n"
     ]
    }
   ],
   "source": [
    "# 17. Write a Python program to remove newline characters from a file.\n",
    "with open('file.txt', 'r') as f:\n",
    "    lines = f.read().splitlines()\n",
    "print(lines)"
   ]
  },
  {
   "cell_type": "code",
   "execution_count": 30,
   "id": "c494a250",
   "metadata": {},
   "outputs": [
    {
     "name": "stdout",
     "output_type": "stream",
     "text": [
      "Number of words: 6\n"
     ]
    }
   ],
   "source": [
    "# 18. Write a Python program that takes a text file as input and returns the number of words in a given text file.\n",
    "# Note: Some words can be separated by a comma with no space.\n",
    "with open('file.txt', 'r') as f:\n",
    "    text = f.read()\n",
    "\n",
    "words = text.replace(',', ' ').split()\n",
    "\n",
    "print(\"Number of words:\", len(words))"
   ]
  },
  {
   "cell_type": "code",
   "execution_count": null,
   "id": "c778a8ce",
   "metadata": {},
   "outputs": [
    {
     "name": "stdout",
     "output_type": "stream",
     "text": [
      "[]\n"
     ]
    }
   ],
   "source": [
    "# 19. Write a Python program to extract characters from various text files and put them into a list.\n",
    "chars = []\n",
    "for i in range(65, 91):  # ASCII codes for A to Z\n",
    "    filename = chr(i) + '.txt'\n",
    "    try:\n",
    "        with open(filename, 'r') as f:\n",
    "            chars += list(f.read())\n",
    "    except FileNotFoundError:\n",
    "        pass  # Skip if the file doesn't exist\n",
    "\n",
    "print(chars)\n"
   ]
  },
  {
   "cell_type": "code",
   "execution_count": 33,
   "id": "b8b0ac2c",
   "metadata": {},
   "outputs": [],
   "source": [
    "# 20. Write a Python program to generate 26 text files named A.txt, B.txt, and so on up to Z.txt.\n",
    "for i in range(65, 91):  # ASCII codes for A to Z\n",
    "    filename = chr(i) + '.txt'\n",
    "    with open(filename, 'w') as f:\n",
    "        f.write(\"This is file \" + filename + \"\\n\")"
   ]
  },
  {
   "cell_type": "code",
   "execution_count": 1,
   "id": "c0e86835",
   "metadata": {},
   "outputs": [],
   "source": [
    "# 21. Write a Python program to create a file where all letters of the English alphabet are listed with a specified number of letters on each line.\n",
    "n = 5  # number of letters per line\n",
    "alphabet = \"abcdefghijklmnopqrstuvwxyz\"\n",
    "\n",
    "with open('alphabet.txt', 'w') as f:\n",
    "    for i in range(0, len(alphabet), n):\n",
    "        f.write(alphabet[i:i+n] + '\\n')"
   ]
  }
 ],
 "metadata": {
  "kernelspec": {
   "display_name": "base",
   "language": "python",
   "name": "python3"
  },
  "language_info": {
   "codemirror_mode": {
    "name": "ipython",
    "version": 3
   },
   "file_extension": ".py",
   "mimetype": "text/x-python",
   "name": "python",
   "nbconvert_exporter": "python",
   "pygments_lexer": "ipython3",
   "version": "3.11.7"
  }
 },
 "nbformat": 4,
 "nbformat_minor": 5
}
