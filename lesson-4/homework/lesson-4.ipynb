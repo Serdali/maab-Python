{
 "cells": [
  {
   "cell_type": "code",
   "execution_count": 1,
   "id": "d9e30955",
   "metadata": {},
   "outputs": [
    {
     "name": "stdout",
     "output_type": "stream",
     "text": [
      "Ascending order: {'kiwi': 3, 'banana': 5, 'orange': 8, 'apple': 10}\n",
      "Descending order: {'apple': 10, 'orange': 8, 'banana': 5, 'kiwi': 3}\n"
     ]
    }
   ],
   "source": [
    "# 1. Sort a Dictionary by Value. Write a Python script to sort (ascending and descending) a dictionary by value.\n",
    "my_dict = {'banana' : 5, 'orange' : 8, 'apple' : 10, 'kiwi' : 3}\n",
    "\n",
    "asc_order = dict(sorted(my_dict.items(), key=lambda item:item[1]))\n",
    "desc_order = dict(sorted(my_dict.items(), key=lambda item:item[1], reverse = True))\n",
    "\n",
    "print('Ascending order:', asc_order)\n",
    "print('Descending order:', desc_order)"
   ]
  },
  {
   "cell_type": "code",
   "execution_count": 2,
   "id": "e6f8a63d",
   "metadata": {},
   "outputs": [
    {
     "name": "stdout",
     "output_type": "stream",
     "text": [
      "{0: 10, 1: 20, 2: 30}\n"
     ]
    }
   ],
   "source": [
    "# 2. Add a Key to a Dictionary. Write a Python script to add a key to a dictionary.\n",
    "dict_1 = {0: 10, 1: 20}\n",
    "dict_1.update({2:30})\n",
    "\n",
    "print(dict_1)"
   ]
  },
  {
   "cell_type": "code",
   "execution_count": 7,
   "id": "1e5d13f0",
   "metadata": {},
   "outputs": [
    {
     "name": "stdout",
     "output_type": "stream",
     "text": [
      "Merged dictionary: {1: 10, 2: 20, 3: 30, 4: 40, 5: 50, 6: 60}\n"
     ]
    }
   ],
   "source": [
    "# 3. Concatenate Multiple Dictionaries. Write a Python script to concatenate the following dictionaries to create a new one.\n",
    "dic1 = {1: 10, 2: 20}\n",
    "dic2 = {3: 30, 4: 40}\n",
    "dic3 = {5: 50, 6: 60}\n",
    "\n",
    "merged_dict = {**dic1, **dic2, **dic3}\n",
    "print(\"Merged dictionary:\", merged_dict)"
   ]
  },
  {
   "cell_type": "code",
   "execution_count": 9,
   "id": "4f8638aa",
   "metadata": {},
   "outputs": [
    {
     "name": "stdout",
     "output_type": "stream",
     "text": [
      "Squared dictionary: {1: 1, 2: 4, 3: 9, 4: 16, 5: 25}\n"
     ]
    }
   ],
   "source": [
    "# 4. Generate a Dictionary with Squares. Write a Python script to generate and print a dictionary that contains a number (between 1 and n) in the form (x, x*x).\n",
    "n = 5\n",
    "\n",
    "dict_square = {x: x*x for x in range(1, n+1)}\n",
    "print('Squared dictionary:',dict_square)"
   ]
  },
  {
   "cell_type": "code",
   "execution_count": 12,
   "id": "67c24cb6",
   "metadata": {},
   "outputs": [
    {
     "name": "stdout",
     "output_type": "stream",
     "text": [
      "Squared dictionary: {1: 1, 2: 4, 3: 9, 4: 16, 5: 25, 6: 36, 7: 49, 8: 64, 9: 81, 10: 100, 11: 121, 12: 144, 13: 169, 14: 196, 15: 225}\n"
     ]
    }
   ],
   "source": [
    "# 5. Dictionary of Squares (1 to 15). Write a Python script to print a dictionary where the keys are numbers between 1 and 15 (both included) and the values are the square of the keys.\n",
    "dict_square = {num: num ** 2 for num in range(1,16)}\n",
    "print('Squared dictionary:',dict_square)"
   ]
  },
  {
   "cell_type": "code",
   "execution_count": 1,
   "id": "5ec33333",
   "metadata": {},
   "outputs": [
    {
     "name": "stdout",
     "output_type": "stream",
     "text": [
      "{0, 2, 3, 4, 6, 9}\n"
     ]
    }
   ],
   "source": [
    "# 6. Create a Set. Write a Python program to create a set.\n",
    "set_list = {3, 2, 6, 4, 9, 3, 0, 2}\n",
    "print(set_list)"
   ]
  },
  {
   "cell_type": "code",
   "execution_count": 2,
   "id": "ec2950fd",
   "metadata": {},
   "outputs": [
    {
     "name": "stdout",
     "output_type": "stream",
     "text": [
      "0\n",
      "2\n",
      "3\n",
      "4\n",
      "6\n",
      "9\n"
     ]
    }
   ],
   "source": [
    "# 7. Iterate Over a Set. Write a Python program to iterate over sets.\n",
    "set_list = {3, 2, 6, 4, 9, 3, 0, 2}\n",
    "\n",
    "for i in set_list:\n",
    "    print(i)"
   ]
  },
  {
   "cell_type": "code",
   "execution_count": 6,
   "id": "e2e304fc",
   "metadata": {},
   "outputs": [
    {
     "name": "stdout",
     "output_type": "stream",
     "text": [
      "{2, 3, 'craig', 9, 'terry', 'alex'}\n"
     ]
    }
   ],
   "source": [
    "# 8. Add Member(s) to a Set.Write a Python program to add member(s) to a set.\n",
    "set1 = {'alex', 'terry', 'craig', 2, 3, 2, 'terry'}\n",
    "set1.add(9)\n",
    "print(set1)"
   ]
  },
  {
   "cell_type": "code",
   "execution_count": 7,
   "id": "6106acc2",
   "metadata": {},
   "outputs": [
    {
     "name": "stdout",
     "output_type": "stream",
     "text": [
      "{1, 3, 4, 5, 6, 7, 9}\n"
     ]
    }
   ],
   "source": [
    "# 9. Remove Item(s) from a Set. Write a Python program to remove item(s) from a given set.\n",
    "num_set = {8, 1, 9, 3, 5, 7, 5, 6, 4}\n",
    "num_set.remove(8)\n",
    "print(num_set)"
   ]
  },
  {
   "cell_type": "code",
   "execution_count": 8,
   "id": "8a225878",
   "metadata": {},
   "outputs": [
    {
     "name": "stdout",
     "output_type": "stream",
     "text": [
      "{1, 3, 4, 5, 6, 7, 8, 9}\n"
     ]
    }
   ],
   "source": [
    "# 10. Remove an Item if Present in the Set. Write a Python program to remove an item from a set if it is present in the set.\n",
    "num_set = {8, 1, 9, 3, 5, 7, 5, 6, 4}\n",
    "num_set.discard(2)\n",
    "print(num_set)"
   ]
  }
 ],
 "metadata": {
  "kernelspec": {
   "display_name": "base",
   "language": "python",
   "name": "python3"
  },
  "language_info": {
   "codemirror_mode": {
    "name": "ipython",
    "version": 3
   },
   "file_extension": ".py",
   "mimetype": "text/x-python",
   "name": "python",
   "nbconvert_exporter": "python",
   "pygments_lexer": "ipython3",
   "version": "3.11.7"
  }
 },
 "nbformat": 4,
 "nbformat_minor": 5
}
