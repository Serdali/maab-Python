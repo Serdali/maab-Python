{
 "cells": [
  {
   "cell_type": "code",
   "execution_count": 1,
   "id": "134e16b5",
   "metadata": {},
   "outputs": [],
   "source": [
    "#1. Create a new database with a table named Roster that has three fields: Name, Species, and Age. The Name and Species columns should be text fields, and the Age column should be an integer field.\n",
    "import sqlite3\n",
    "\n",
    "connection = sqlite3.connect(\"my_database.db\")\n",
    "\n",
    "sql_query = \"\"\"CREATE TABLE IF NOT EXISTS Roster (\n",
    "    Name TEXT,\n",
    "    Species TEXT,\n",
    "    Age INTEGER\n",
    ")\"\"\"\n",
    "\n",
    "cursor = connection.cursor()\n",
    "\n",
    "cursor.execute(sql_query)\n",
    "\n",
    "connection.commit()\n",
    "connection.close()\n"
   ]
  },
  {
   "cell_type": "code",
   "execution_count": 2,
   "id": "c25e3835",
   "metadata": {},
   "outputs": [],
   "source": [
    "#2. Populate your new table\n",
    "import sqlite3\n",
    "\n",
    "with sqlite3.connect(\"my_database.db\") as conn:\n",
    "    cursor = conn.cursor()\n",
    "\n",
    "    data = [\n",
    "    (\"Benjamin Sisko\", \"Human\", 40),\n",
    "    (\"Jadzia Dax\", \"Trill\", 300),\n",
    "    (\"Kira Nerys\", \"Bajoran\", 29)\n",
    "]\n",
    "\n",
    "cursor.executemany(\"INSERT INTO Roster(Name, Species, Age) VALUES (?, ?, ?)\", data)\n",
    "\n",
    "conn.commit()\n",
    "conn.close()"
   ]
  },
  {
   "cell_type": "code",
   "execution_count": 3,
   "id": "1d67ea21",
   "metadata": {},
   "outputs": [],
   "source": [
    "#3. Update the Name of Jadzia Dax to be Ezri Dax\n",
    "import sqlite3\n",
    "\n",
    "with sqlite3.connect(\"my_database.db\") as conn:\n",
    "    cursor = conn.cursor()\n",
    "\n",
    "cursor.execute('''\n",
    "UPDATE Roster\n",
    "SET Name = 'Ezri Dax'\n",
    "WHERE Name = 'Jadzia Dax'              \n",
    "''')\n",
    "\n",
    "conn.commit()\n",
    "conn.close()"
   ]
  },
  {
   "cell_type": "code",
   "execution_count": 4,
   "id": "5d4dc60b",
   "metadata": {},
   "outputs": [
    {
     "name": "stdout",
     "output_type": "stream",
     "text": [
      "Name: Kira Nerys, Age: 29\n"
     ]
    }
   ],
   "source": [
    "#4. Display the Name and Age of everyone in the table classified as Bajoran.\n",
    "import sqlite3\n",
    "\n",
    "with sqlite3.connect(\"my_database.db\") as conn:\n",
    "    cursor = conn.cursor()\n",
    "\n",
    "cursor.execute('''\n",
    "SELECT Name, Age\n",
    "FROM Roster\n",
    "WHERE Species = 'Bajoran'\n",
    "''')\n",
    "\n",
    "result = cursor.fetchall()\n",
    "\n",
    "for row in result:\n",
    "    print(f\"Name: {row[0]}, Age: {row[1]}\")\n",
    "\n",
    "conn.close()"
   ]
  }
 ],
 "metadata": {
  "kernelspec": {
   "display_name": "base",
   "language": "python",
   "name": "python3"
  },
  "language_info": {
   "codemirror_mode": {
    "name": "ipython",
    "version": 3
   },
   "file_extension": ".py",
   "mimetype": "text/x-python",
   "name": "python",
   "nbconvert_exporter": "python",
   "pygments_lexer": "ipython3",
   "version": "3.11.7"
  }
 },
 "nbformat": 4,
 "nbformat_minor": 5
}
