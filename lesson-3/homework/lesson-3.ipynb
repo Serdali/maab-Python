{
 "cells": [
  {
   "cell_type": "code",
   "execution_count": 6,
   "id": "fbec6f77",
   "metadata": {},
   "outputs": [
    {
     "data": {
      "text/plain": [
       "'kiwi'"
      ]
     },
     "execution_count": 6,
     "metadata": {},
     "output_type": "execute_result"
    }
   ],
   "source": [
    "# 1. Create and Access List Elements. Create a list containing five different fruits and print the third fruit.\n",
    "fruit = list(['apple', 'banana', 'kiwi', 'pineapple', 'pear'])\n",
    "fruit[2]"
   ]
  },
  {
   "cell_type": "code",
   "execution_count": 9,
   "id": "d8836129",
   "metadata": {},
   "outputs": [
    {
     "data": {
      "text/plain": [
       "[1, 3, 5, 2, 4, 6]"
      ]
     },
     "execution_count": 9,
     "metadata": {},
     "output_type": "execute_result"
    }
   ],
   "source": [
    "# 2. Concatenate Two Lists. Create two lists of numbers and concatenate them into a single list.\n",
    "num_list1 = [1, 3, 5]\n",
    "num_list2 = [2, 4, 6]\n",
    "\n",
    "num_list1.extend(num_list2)\n",
    "num_list1"
   ]
  },
  {
   "cell_type": "code",
   "execution_count": 13,
   "id": "c10129c4",
   "metadata": {},
   "outputs": [
    {
     "name": "stdout",
     "output_type": "stream",
     "text": [
      "[10, 40, 70]\n"
     ]
    }
   ],
   "source": [
    "# 3. Extract Elements from a List. Given a list of numbers, extract the first, middle, and last elements and store them in a new list.\n",
    "num_list = [10, 20, 30, 40, 50, 60, 70]\n",
    "\n",
    "first_num = num_list[0]\n",
    "middle_num = num_list[len(num_list)//2]\n",
    "last_num = num_list[-1]\n",
    "\n",
    "joined_list = [first_num, middle_num, last_num]\n",
    "print(joined_list)"
   ]
  },
  {
   "cell_type": "code",
   "execution_count": 15,
   "id": "676e0096",
   "metadata": {},
   "outputs": [
    {
     "data": {
      "text/plain": [
       "('Interstellar',\n",
       " 'John Wick',\n",
       " 'Fast&Furious',\n",
       " 'Inception',\n",
       " 'Catch me if you can')"
      ]
     },
     "execution_count": 15,
     "metadata": {},
     "output_type": "execute_result"
    }
   ],
   "source": [
    "# 4. Convert List to Tuple. Create a list of your five favorite movies and convert it into a tuple.\n",
    "movies = ['Interstellar', 'John Wick', 'Fast&Furious', 'Inception', 'Catch me if you can']\n",
    "tuple_list = tuple(movies)\n",
    "tuple_list"
   ]
  },
  {
   "cell_type": "code",
   "execution_count": null,
   "id": "78b468a6",
   "metadata": {},
   "outputs": [
    {
     "name": "stdout",
     "output_type": "stream",
     "text": [
      "Paris is in list\n"
     ]
    }
   ],
   "source": [
    "# 5. Check Element in a List. Given a list of cities, check if \"Paris\" is in the list and print the result.\n",
    "cities_list = list(['London', 'New York', 'Rome', 'Paris', 'Tokyo'])\n",
    "\n",
    "if 'Paris' in cities_list:\n",
    "    print('Paris is in list')\n",
    "else:\n",
    "    print('Sorry, Paris is not in list')"
   ]
  },
  {
   "cell_type": "code",
   "execution_count": 21,
   "id": "a69a86ae",
   "metadata": {},
   "outputs": [
    {
     "data": {
      "text/plain": [
       "[21, 34, 95, 58, 69, 21, 34, 95, 58, 69]"
      ]
     },
     "execution_count": 21,
     "metadata": {},
     "output_type": "execute_result"
    }
   ],
   "source": [
    "# 6. Duplicate a List Without Using Loops. Create a list of numbers and duplicate it without using loops.\n",
    "numbers = [21, 34, 95, 58, 69]\n",
    "\n",
    "duplicated_nums = numbers * 2\n",
    "duplicated_nums"
   ]
  },
  {
   "cell_type": "code",
   "execution_count": 23,
   "id": "d43cd1fb",
   "metadata": {},
   "outputs": [
    {
     "data": {
      "text/plain": [
       "[69, 34, 95, 58, 21]"
      ]
     },
     "execution_count": 23,
     "metadata": {},
     "output_type": "execute_result"
    }
   ],
   "source": [
    "# 7. Swap First and Last Elements of a List. Given a list of numbers, swap the first and last elements.\n",
    "numbers = [21, 34, 95, 58, 69]\n",
    "\n",
    "numbers[0], numbers[-1] = numbers[-1], numbers[0]\n",
    "numbers"
   ]
  },
  {
   "cell_type": "code",
   "execution_count": 31,
   "id": "28ce3f0f",
   "metadata": {},
   "outputs": [
    {
     "data": {
      "text/plain": [
       "(4, 5, 6, 7)"
      ]
     },
     "execution_count": 31,
     "metadata": {},
     "output_type": "execute_result"
    }
   ],
   "source": [
    "# 8. Slice a Tuple. Create a tuple of numbers from 1 to 10 and print a slice from index 3 to 7.\n",
    "tuple_nums = tuple([1, 2, 3, 4, 5, 6, 7, 8, 9, 10])\n",
    "sliced_nums = tuple_nums[3:7]\n",
    "sliced_nums"
   ]
  },
  {
   "cell_type": "code",
   "execution_count": 34,
   "id": "6815bef9",
   "metadata": {},
   "outputs": [
    {
     "name": "stdout",
     "output_type": "stream",
     "text": [
      "\"blue\" appears 3 times in the list.\n"
     ]
    }
   ],
   "source": [
    "# 9. Count Occurrences in a List. Create a list of colors and count how many times \"blue\" appears in the list.\n",
    "colors = list(['blue', 'red', 'brown', 'yellow', 'blue', 'orange', 'red', 'blue'])\n",
    "blue_col = colors.count('blue')\n",
    "\n",
    "print(f'\"blue\" appears {blue_col} times in the list.')"
   ]
  },
  {
   "cell_type": "code",
   "execution_count": 37,
   "id": "bed10e3f",
   "metadata": {},
   "outputs": [
    {
     "name": "stdout",
     "output_type": "stream",
     "text": [
      "The index of \"lion\" is 3.\n"
     ]
    }
   ],
   "source": [
    "# 10. Find the Index of an Element in a Tuple. Given a tuple of animals, find the index of \"lion\".\n",
    "animal = tuple(['bear', 'tiger', 'cheetah', 'lion', 'wolf', 'fox'])\n",
    "index_l = animal.index('lion')\n",
    "\n",
    "print(f'The index of \"lion\" is {index_l}.')"
   ]
  },
  {
   "cell_type": "code",
   "execution_count": 38,
   "id": "4f244bd1",
   "metadata": {},
   "outputs": [
    {
     "data": {
      "text/plain": [
       "(1, 2, 3, 4, 5, 6)"
      ]
     },
     "execution_count": 38,
     "metadata": {},
     "output_type": "execute_result"
    }
   ],
   "source": [
    "# 11. Merge Two Tuples. Create two tuples of numbers and merge them into a single tuple.\n",
    "tuple_1 = (1, 2, 3)\n",
    "tuple_2 = (4, 5, 6)\n",
    "\n",
    "merged_tuple = tuple_1 + tuple_2\n",
    "merged_tuple"
   ]
  },
  {
   "cell_type": "code",
   "execution_count": 44,
   "id": "525c7628",
   "metadata": {},
   "outputs": [
    {
     "name": "stdout",
     "output_type": "stream",
     "text": [
      "Length of the list 6\n",
      "Length of the tuple 5\n"
     ]
    }
   ],
   "source": [
    "# 12. Find the Length of a List and Tuple. Given a list and a tuple, find and print their lengths.\n",
    "len_list = [1, 2, 'alex', 'abcd', 34, 980]\n",
    "len_tuple = (3, 4, 65, 'terry', 1)\n",
    "\n",
    "print('Length of the list', len(len_list))\n",
    "print('Length of the tuple', len(len_tuple))"
   ]
  },
  {
   "cell_type": "code",
   "execution_count": 48,
   "id": "73701387",
   "metadata": {},
   "outputs": [
    {
     "data": {
      "text/plain": [
       "[1, 2, 3, 4, 5, 6, 7, 8, 9, 10]"
      ]
     },
     "execution_count": 48,
     "metadata": {},
     "output_type": "execute_result"
    }
   ],
   "source": [
    "# 13. Convert Tuple to List. Create a tuple of five numbers and convert it into a list.\n",
    "tuple_number = (1, 2, 3, 4, 5, 6, 7, 8, 9, 10)\n",
    "list_num = list(tuple_number)\n",
    "list_num"
   ]
  },
  {
   "cell_type": "code",
   "execution_count": 50,
   "id": "63b33975",
   "metadata": {},
   "outputs": [
    {
     "name": "stdout",
     "output_type": "stream",
     "text": [
      "max value of tuple 67 and min value 9\n"
     ]
    }
   ],
   "source": [
    "# 14. Find Maximum and Minimum in a Tuple. Given a tuple of numbers, find and print the maximum and minimum values.\n",
    "num_tuple = (12, 32, 56, 23, 45, 55, 67, 18, 9)\n",
    "max_num = max(num_tuple)\n",
    "min_num = min(num_tuple)\n",
    "\n",
    "print(f'max value of tuple {max_num} and min value {min_num}')"
   ]
  },
  {
   "cell_type": "code",
   "execution_count": 51,
   "id": "c037a2e9",
   "metadata": {},
   "outputs": [
    {
     "data": {
      "text/plain": [
       "('fig', 'date', 'cherry', 'banana', 'apple')"
      ]
     },
     "execution_count": 51,
     "metadata": {},
     "output_type": "execute_result"
    }
   ],
   "source": [
    "# 15. Reverse a Tuple. Create a tuple of words and print it in reverse order.\n",
    "words = (\"apple\", \"banana\", \"cherry\", \"date\", \"fig\")\n",
    "\n",
    "words[::-1]"
   ]
  }
 ],
 "metadata": {
  "kernelspec": {
   "display_name": "base",
   "language": "python",
   "name": "python3"
  },
  "language_info": {
   "codemirror_mode": {
    "name": "ipython",
    "version": 3
   },
   "file_extension": ".py",
   "mimetype": "text/x-python",
   "name": "python",
   "nbconvert_exporter": "python",
   "pygments_lexer": "ipython3",
   "version": "3.11.7"
  }
 },
 "nbformat": 4,
 "nbformat_minor": 5
}
