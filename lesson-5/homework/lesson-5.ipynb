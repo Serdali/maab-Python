{
 "cells": [
  {
   "cell_type": "code",
   "execution_count": 1,
   "id": "aceed815",
   "metadata": {},
   "outputs": [
    {
     "name": "stdout",
     "output_type": "stream",
     "text": [
      "year is not leap\n",
      "True\n"
     ]
    }
   ],
   "source": [
    "# 1. Find LEAP YEAR\n",
    "#1st method\n",
    "year = int(input('Enter year: '))\n",
    "\n",
    "if  (year % 4==0 and year % 100 != 0) or (year % 400 == 0):\n",
    "    print('year is leap')\n",
    "else:\n",
    "    print('year is not leap')\n",
    "\n",
    "#2nd method\n",
    "def is_leap_year(year):\n",
    "    if not isinstance(year, int):\n",
    "        raise ValueError(\"Year must be an integer.\")\n",
    "\n",
    "    return (year % 4 == 0 and year % 100 != 0) or (year % 400 == 0)\n",
    "print(is_leap_year(2024))"
   ]
  },
  {
   "cell_type": "code",
   "execution_count": 2,
   "id": "184be338",
   "metadata": {},
   "outputs": [
    {
     "name": "stdout",
     "output_type": "stream",
     "text": [
      "Not Weird\n"
     ]
    }
   ],
   "source": [
    "# 2.Conditional Statements Exercise. Given an integer, n, perform the following conditional actions:\n",
    "# If n is odd, print Weird\n",
    "# If n is even and in the inclusive range of 2 to 5, print Not Weird\n",
    "# If n is even and in the inclusive range of 6 to 20, print Weird\n",
    "# If n is even and greater than 20, print Not Weird\n",
    "\n",
    "n = int(input('Enter a number: '))\n",
    "\n",
    "if n % 2 != 0:\n",
    "    print('Weird')\n",
    "else:\n",
    "    if 2 <= n <= 5:\n",
    "        print('Not Weird')\n",
    "    elif n % 2 == 0 and 6 <= n <= 20:\n",
    "        print('Weird')\n",
    "    elif n > 20:\n",
    "        print('Not Weird')"
   ]
  },
  {
   "cell_type": "code",
   "execution_count": 3,
   "id": "3d5ea6fd",
   "metadata": {},
   "outputs": [
    {
     "name": "stdout",
     "output_type": "stream",
     "text": [
      "[2, 4, 6, 8, 10, 12, 14]\n",
      "[2, 4, 6, 8, 10, 12, 14, 16, 18, 20]\n"
     ]
    }
   ],
   "source": [
    "# 3. Given two integer numbers a and b. Find even numbers between this numbers. a and b are inclusive. Don't use loop.\n",
    "# Give two solutions.\n",
    "# Solution 1 with if-else statement.\n",
    "a = int(input())\n",
    "b = int(input())\n",
    "\n",
    "if a > b:\n",
    "    a, b = b, a\n",
    "start = a if a % 2 == 0 else a + 1\n",
    "end = b if b % 2 == 0 else b-1\n",
    "\n",
    "if start > end:\n",
    "    print('No even numbers in a range')\n",
    "else:\n",
    "    even_nums = list(range(start, end + 1, 2))\n",
    "    print(even_nums)\n",
    "\n",
    "# Solution 2 without if-else statement.\n",
    "a = int(input())\n",
    "b = int(input())\n",
    "\n",
    "a, b = min(a, b), max(a, b) \n",
    "\n",
    "start = a + (a % 2)  \n",
    "end = b - (b % 2)   \n",
    "\n",
    "even_nums = list(range(start, end + 1, 2)) if start <= end else []\n",
    "print(even_nums)\n"
   ]
  }
 ],
 "metadata": {
  "kernelspec": {
   "display_name": "base",
   "language": "python",
   "name": "python3"
  },
  "language_info": {
   "codemirror_mode": {
    "name": "ipython",
    "version": 3
   },
   "file_extension": ".py",
   "mimetype": "text/x-python",
   "name": "python",
   "nbconvert_exporter": "python",
   "pygments_lexer": "ipython3",
   "version": "3.11.7"
  }
 },
 "nbformat": 4,
 "nbformat_minor": 5
}
