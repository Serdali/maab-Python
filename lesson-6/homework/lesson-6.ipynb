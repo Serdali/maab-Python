{
 "cells": [
  {
   "cell_type": "code",
   "execution_count": 1,
   "id": "7518e0e8",
   "metadata": {},
   "outputs": [
    {
     "data": {
      "text/plain": [
       "'ass_alom'"
      ]
     },
     "execution_count": 1,
     "metadata": {},
     "output_type": "execute_result"
    }
   ],
   "source": [
    "# 1.Modify String with Underscores. Given a string txt, insert an underscore (_) after every third character. If a character is a vowel or already has an underscore after it, shift the underscore placement to the next character. No underscore should be added at the end.\n",
    "def insert_underscores(txt):\n",
    "    vowels = \"aeiouAEIOU\"\n",
    "    result = []\n",
    "    count = 0\n",
    "    i = 0\n",
    "\n",
    "    while i < len(txt):\n",
    "        result.append(txt[i])\n",
    "        count += 1\n",
    "\n",
    "        if count == 3:\n",
    "            if txt[i] not in vowels and (i + 1 >= len(txt) or txt[i + 1] != '_'):\n",
    "                result.append('_')\n",
    "                count = 0\n",
    "            else:\n",
    "                # delay underscore insertion\n",
    "                count = 2  # so next valid char triggers it\n",
    "        i += 1\n",
    "\n",
    "    # Remove underscore if it's the last character\n",
    "    if result and result[-1] == '_':\n",
    "        result.pop()\n",
    "\n",
    "    return ''.join(result)\n",
    "\n",
    "insert_underscores('assalom')\n"
   ]
  },
  {
   "cell_type": "code",
   "execution_count": 18,
   "id": "0bad4968",
   "metadata": {},
   "outputs": [
    {
     "name": "stdout",
     "output_type": "stream",
     "text": [
      "0\n",
      "1\n",
      "4\n",
      "9\n",
      "16\n"
     ]
    }
   ],
   "source": [
    "# 2.Integer Squares Exercise. The provided code stub reads an integer, n, from STDIN. For all non-negative integers i where 0 <= i < n, print i^2.\n",
    "n = int(input('Enter number: '))\n",
    "\n",
    "for i in range(n):\n",
    "    print(i**2)"
   ]
  },
  {
   "cell_type": "code",
   "execution_count": 3,
   "id": "6293e1b7",
   "metadata": {},
   "outputs": [
    {
     "name": "stdout",
     "output_type": "stream",
     "text": [
      "1\n",
      "2\n",
      "3\n",
      "4\n",
      "5\n",
      "6\n",
      "7\n",
      "8\n",
      "9\n",
      "10\n"
     ]
    }
   ],
   "source": [
    "# 3. Print first 10 natural numbers using a while loop\n",
    "i = 1\n",
    "\n",
    "while i <= 10:\n",
    "    print(i)\n",
    "    i += 1"
   ]
  },
  {
   "cell_type": "code",
   "execution_count": 20,
   "id": "9745813b",
   "metadata": {},
   "outputs": [
    {
     "name": "stdout",
     "output_type": "stream",
     "text": [
      "1 \n",
      "1 2 \n",
      "1 2 3 \n",
      "1 2 3 4 \n",
      "1 2 3 4 5 \n"
     ]
    }
   ],
   "source": [
    "# 4. Print the following pattern\n",
    "# 1\n",
    "# 1 2\n",
    "# 1 2 3\n",
    "# 1 2 3 4\n",
    "# 1 2 3 4 5\n",
    "\n",
    "n = int(input('Enter number: '))\n",
    "\n",
    "for i in range(1, n):\n",
    "    for j in range(1, i+1):\n",
    "        print(j, end=' ')\n",
    "    print()\n",
    "\n"
   ]
  },
  {
   "cell_type": "code",
   "execution_count": 5,
   "id": "ab888d38",
   "metadata": {},
   "outputs": [
    {
     "name": "stdout",
     "output_type": "stream",
     "text": [
      "15\n"
     ]
    }
   ],
   "source": [
    "# 5. Calculate sum of all numbers from 1 to a given number\n",
    "n = int(input('Enter number: '))\n",
    "t = 0\n",
    "\n",
    "for i in range(1, n + 1):\n",
    "    t += i\n",
    "print(t)"
   ]
  },
  {
   "cell_type": "code",
   "execution_count": 21,
   "id": "a603fc2e",
   "metadata": {},
   "outputs": [
    {
     "name": "stdout",
     "output_type": "stream",
     "text": [
      "2\n",
      "4\n",
      "6\n",
      "8\n",
      "10\n",
      "12\n",
      "14\n",
      "16\n",
      "18\n",
      "20\n"
     ]
    }
   ],
   "source": [
    "# 6. Print multiplication table of a given number\n",
    "n = int(input('Enter number: '))\n",
    "\n",
    "for i in range(1, 11):\n",
    "    print(n * i)"
   ]
  },
  {
   "cell_type": "code",
   "execution_count": 7,
   "id": "190b194d",
   "metadata": {},
   "outputs": [
    {
     "name": "stdout",
     "output_type": "stream",
     "text": [
      "75\n",
      "150\n",
      "145\n"
     ]
    }
   ],
   "source": [
    "# 7. Display numbers from a list using a loop numbers = [12, 75, 150, 180, 145, 525, 50]\n",
    "\n",
    "numbers = [12, 75, 150, 180, 145, 525, 50]\n",
    "\n",
    "for i in numbers:\n",
    "    if 70 <= i <= 170:\n",
    "        print(i)"
   ]
  },
  {
   "cell_type": "code",
   "execution_count": 22,
   "id": "48653a35",
   "metadata": {},
   "outputs": [
    {
     "name": "stdout",
     "output_type": "stream",
     "text": [
      "Total digits: 5\n"
     ]
    }
   ],
   "source": [
    "# 8. Count the total number of digits in a number\n",
    "\n",
    "num = int(input('Enter number: '))\n",
    "count = 0\n",
    "\n",
    "while num != 0:\n",
    "    num //= 10\n",
    "    count += 1\n",
    "print('Total digits:', count)"
   ]
  },
  {
   "cell_type": "code",
   "execution_count": 9,
   "id": "b165866c",
   "metadata": {},
   "outputs": [
    {
     "name": "stdout",
     "output_type": "stream",
     "text": [
      "1 2 3 4 5 \n",
      "1 2 3 4 \n",
      "1 2 3 \n",
      "1 2 \n",
      "1 \n"
     ]
    }
   ],
   "source": [
    "# 9. Print reverse number pattern\n",
    "num = int(input('Enter number: '))\n",
    "\n",
    "for i in range(num, 0, -1):\n",
    "    for j in range(1, i+1):\n",
    "        print(j, end=' ')\n",
    "    print()\n"
   ]
  },
  {
   "cell_type": "code",
   "execution_count": 10,
   "id": "d0d2e56d",
   "metadata": {},
   "outputs": [
    {
     "name": "stdout",
     "output_type": "stream",
     "text": [
      "50\n",
      "40\n",
      "30\n",
      "20\n",
      "10\n",
      "\n",
      "\n",
      "50\n",
      "40\n",
      "30\n",
      "20\n",
      "10\n"
     ]
    }
   ],
   "source": [
    "# 10. Print list in reverse order using a loop\n",
    "# 1 st method\n",
    "list1 = [10, 20, 30, 40, 50]\n",
    "\n",
    "for i in reversed(list1):\n",
    "    print(i)\n",
    "\n",
    "print('\\n')\n",
    "# 2 nd method\n",
    "list1 = [10, 20, 30, 40, 50]\n",
    "\n",
    "for i in range(len(list1) - 1, -1, -1):\n",
    "    print(list1[i])"
   ]
  },
  {
   "cell_type": "code",
   "execution_count": 11,
   "id": "1920507b",
   "metadata": {},
   "outputs": [
    {
     "name": "stdout",
     "output_type": "stream",
     "text": [
      "-10\n",
      "-9\n",
      "-8\n",
      "-7\n",
      "-6\n",
      "-5\n",
      "-4\n",
      "-3\n",
      "-2\n",
      "-1\n"
     ]
    }
   ],
   "source": [
    "# 11. Display numbers from -10 to -1 using a for loop\n",
    "\n",
    "for i in range(-10, 0):\n",
    "    print(i)"
   ]
  },
  {
   "cell_type": "code",
   "execution_count": 12,
   "id": "2f85a0b7",
   "metadata": {},
   "outputs": [
    {
     "name": "stdout",
     "output_type": "stream",
     "text": [
      "0\n",
      "1\n",
      "2\n",
      "3\n",
      "4\n",
      "Done!\n",
      "\n",
      "\n",
      "0\n",
      "1\n",
      "2\n",
      "3\n",
      "4\n",
      "Done!\n"
     ]
    }
   ],
   "source": [
    "# 12. Display message “Done” after successful loop execution\n",
    "# 1st method\n",
    "num = int(input('Enter number: '))\n",
    "\n",
    "for i in range(num):\n",
    "    print(i)\n",
    "print('Done!')\n",
    "\n",
    "print('\\n')\n",
    "\n",
    "# 2nd method\n",
    "num = int(input('Enter number: '))\n",
    "i = 0\n",
    "\n",
    "while i < num:\n",
    "    print(i)\n",
    "    i += 1\n",
    "print('Done!')"
   ]
  },
  {
   "cell_type": "code",
   "execution_count": 26,
   "id": "a71b447c",
   "metadata": {},
   "outputs": [
    {
     "name": "stdout",
     "output_type": "stream",
     "text": [
      "Prime numbers between 1 and 15 are:\n",
      "2\n",
      "3\n",
      "5\n",
      "7\n",
      "11\n",
      "13\n"
     ]
    }
   ],
   "source": [
    "# 13. Print all prime numbers within a range\n",
    "start_num = int(input('Enter starting point: '))\n",
    "end_num = int(input('Enter ending point: '))\n",
    "\n",
    "print(f\"Prime numbers between {start_num} and {end_num} are:\")\n",
    "\n",
    "for i in range(start_num, end_num + 1):\n",
    "    if i > 1:\n",
    "        for j in range(2, int(i**0.5)+1):\n",
    "            if i % j == 0:\n",
    "                break\n",
    "        else:\n",
    "            print(i)\n"
   ]
  },
  {
   "cell_type": "code",
   "execution_count": 25,
   "id": "fb2744cf",
   "metadata": {},
   "outputs": [
    {
     "name": "stdout",
     "output_type": "stream",
     "text": [
      "0 1 1 2 3 5 8 13 21 34 "
     ]
    }
   ],
   "source": [
    "# 14. Display Fibonacci series up to 10 terms\n",
    "num = int(input('Enter number: '))\n",
    "a = 0\n",
    "b = 1\n",
    "\n",
    "for i in range(num):\n",
    "    print(a, end = ' ')\n",
    "    a, b = b, a + b"
   ]
  },
  {
   "cell_type": "code",
   "execution_count": 15,
   "id": "2681aad4",
   "metadata": {},
   "outputs": [
    {
     "name": "stdout",
     "output_type": "stream",
     "text": [
      "Factorial of number 5 is 120\n"
     ]
    }
   ],
   "source": [
    "# 15. Find the factorial of a given number\n",
    "num = int(input('Enter number: '))\n",
    "f = 1\n",
    "\n",
    "for i in range(1, num + 1):\n",
    "    f *= i\n",
    "print(f'Factorial of number {num} is {f}')"
   ]
  },
  {
   "cell_type": "code",
   "execution_count": null,
   "id": "fde2f8d5",
   "metadata": {},
   "outputs": [
    {
     "name": "stdout",
     "output_type": "stream",
     "text": [
      "[1, 2, 2, 5]\n"
     ]
    }
   ],
   "source": [
    "# 16. Return the elements that are not common between two lists. The order of elements does not matter.\n",
    "list1 = [1, 1, 2, 3, 4, 2]\n",
    "list2 = [1, 3, 4, 5]\n",
    "\n",
    "result = []\n",
    "temp = list2[:]\n",
    "\n",
    "\n",
    "for i in list1:\n",
    "    if i in temp:\n",
    "        temp.remove(i)\n",
    "    else:\n",
    "        result.append(i)\n",
    "result += temp\n",
    "print(result)"
   ]
  }
 ],
 "metadata": {
  "kernelspec": {
   "display_name": "base",
   "language": "python",
   "name": "python3"
  },
  "language_info": {
   "codemirror_mode": {
    "name": "ipython",
    "version": 3
   },
   "file_extension": ".py",
   "mimetype": "text/x-python",
   "name": "python",
   "nbconvert_exporter": "python",
   "pygments_lexer": "ipython3",
   "version": "3.11.7"
  }
 },
 "nbformat": 4,
 "nbformat_minor": 5
}
