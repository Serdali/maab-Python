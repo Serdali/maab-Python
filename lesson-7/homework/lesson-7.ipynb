{
 "cells": [
  {
   "cell_type": "code",
   "execution_count": 1,
   "id": "d93fce3f",
   "metadata": {},
   "outputs": [
    {
     "name": "stdout",
     "output_type": "stream",
     "text": [
      "True\n"
     ]
    }
   ],
   "source": [
    "# 1. is_prime(n) funksiyasi. is_prime(n) funksiyasini hosil qiling (n > 0). Agar n soni tub bo'lsa True, aks holda False qiymat qaytarsin.\n",
    "\n",
    "def is_prime(n):\n",
    "    if n < 2:\n",
    "        return False\n",
    "    for i in range(2, int(n**0.5)+1):\n",
    "        if n % i == 0:\n",
    "            return False\n",
    "    return True\n",
    "\n",
    "print(is_prime(251))\n"
   ]
  },
  {
   "cell_type": "code",
   "execution_count": 2,
   "id": "cbcf4087",
   "metadata": {},
   "outputs": [
    {
     "name": "stdout",
     "output_type": "stream",
     "text": [
      "7\n"
     ]
    }
   ],
   "source": [
    "# 2. digit_sum(k) funksiyasini yozing, u k sonining raqamlari yig'indisini hisoblaydi.\n",
    "def digit_sum(k):\n",
    "    k = abs(k)\n",
    "    t = 0\n",
    "    while k > 0:\n",
    "        t += k % 10\n",
    "        k //= 10\n",
    "\n",
    "    return t\n",
    "print(digit_sum(502))"
   ]
  },
  {
   "cell_type": "code",
   "execution_count": 3,
   "id": "ebe2ee1f",
   "metadata": {},
   "outputs": [
    {
     "name": "stdout",
     "output_type": "stream",
     "text": [
      "1 2 4 8 16 32 "
     ]
    }
   ],
   "source": [
    "# 3.Berilgan N sonidan oshmaydigan barcha 2 ning darajalarini (ya'ni, 2**k shaklidagi sonlarni) chop etuvchi funksiyani yozing.\n",
    "def power_two(N):\n",
    "    k = 0\n",
    "    while 2**k <= N:\n",
    "        print(2**k, end=' ')\n",
    "        k += 1\n",
    "power_two(45)"
   ]
  }
 ],
 "metadata": {
  "kernelspec": {
   "display_name": "base",
   "language": "python",
   "name": "python3"
  },
  "language_info": {
   "codemirror_mode": {
    "name": "ipython",
    "version": 3
   },
   "file_extension": ".py",
   "mimetype": "text/x-python",
   "name": "python",
   "nbconvert_exporter": "python",
   "pygments_lexer": "ipython3",
   "version": "3.11.7"
  }
 },
 "nbformat": 4,
 "nbformat_minor": 5
}
