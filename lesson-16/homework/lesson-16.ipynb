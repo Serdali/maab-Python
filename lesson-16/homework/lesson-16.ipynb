{
 "cells": [
  {
   "cell_type": "code",
   "execution_count": 3,
   "id": "0232f93e",
   "metadata": {},
   "outputs": [
    {
     "name": "stdout",
     "output_type": "stream",
     "text": [
      "Original List: [12.23, 13.32, 100, 36.32]\n",
      "One-dimensional NumPy array: [ 12.23  13.32 100.    36.32]\n"
     ]
    }
   ],
   "source": [
    "#1. Convert List to 1D Array\n",
    "import numpy as np\n",
    "\n",
    "list1 = [12.23, 13.32, 100, 36.32]\n",
    "print(\"Original List:\", list1)\n",
    "\n",
    "arr_val = np.array(list1)\n",
    "print(\"One-dimensional NumPy array:\", arr_val)"
   ]
  },
  {
   "cell_type": "code",
   "execution_count": 4,
   "id": "81ce2443",
   "metadata": {},
   "outputs": [
    {
     "name": "stdout",
     "output_type": "stream",
     "text": [
      "[[ 2  3  4]\n",
      " [ 5  6  7]\n",
      " [ 8  9 10]]\n"
     ]
    }
   ],
   "source": [
    "#2. Create 3x3 Matrix (2?10). Write a NumPy program to create a 3x3 matrix with values ranging from 2 to 10.\n",
    "import numpy as np\n",
    "\n",
    "arr_val = np.arange(2,11).reshape(3,3)\n",
    "\n",
    "print(arr_val)"
   ]
  },
  {
   "cell_type": "code",
   "execution_count": 6,
   "id": "d4192c56",
   "metadata": {},
   "outputs": [
    {
     "name": "stdout",
     "output_type": "stream",
     "text": [
      "[0. 0. 0. 0. 0. 0. 0. 0. 0. 0.]\n",
      "Update sixth value to 11 [ 0.  0.  0.  0.  0.  0. 11.  0.  0.  0.]\n"
     ]
    }
   ],
   "source": [
    "#3. Null Vector (10) & Update Sixth Value. Write a NumPy program to create a null vector of size 10 and update the sixth value to 11.\n",
    "import numpy as np\n",
    "\n",
    "null_vector = np.zeros(10)\n",
    "print(null_vector)\n",
    "\n",
    "null_vector[6] = 11\n",
    "print(\"Update sixth value to 11\", null_vector)"
   ]
  },
  {
   "cell_type": "code",
   "execution_count": 7,
   "id": "55556989",
   "metadata": {},
   "outputs": [
    {
     "name": "stdout",
     "output_type": "stream",
     "text": [
      "[12 13 14 15 16 17 18 19 20 21 22 23 24 25 26 27 28 29 30 31 32 33 34 35\n",
      " 36 37]\n"
     ]
    }
   ],
   "source": [
    "#4. Array from 12 to 38. Write a NumPy program to create an array with values ranging from 12 to 38.\n",
    "import numpy as np\n",
    "\n",
    "arr_val = np.arange(12, 38)\n",
    "\n",
    "print(arr_val)"
   ]
  },
  {
   "cell_type": "code",
   "execution_count": 8,
   "id": "5ff181e3",
   "metadata": {},
   "outputs": [
    {
     "name": "stdout",
     "output_type": "stream",
     "text": [
      "Original array [1 2 3 4]\n",
      "Array converted to float type: [1. 2. 3. 4.]\n"
     ]
    }
   ],
   "source": [
    "#5. Convert Array to Float Type. Write a NumPy program to convert an array to a floating type.\n",
    "import numpy as np\n",
    "\n",
    "org_val = np.array([1, 2, 3, 4])\n",
    "print(\"Original array\", org_val)\n",
    "\n",
    "float_arr = org_val.astype(float)\n",
    "print(\"Array converted to float type:\", float_arr)"
   ]
  },
  {
   "cell_type": "code",
   "execution_count": 9,
   "id": "8338c726",
   "metadata": {},
   "outputs": [
    {
     "name": "stdout",
     "output_type": "stream",
     "text": [
      "Celsius temperatures: [ 0.   12.   45.21 34.   99.91]\n",
      "Fahrenheit temperatures: [ 32.     53.6   113.378  93.2   211.838]\n"
     ]
    }
   ],
   "source": [
    "#6. Celsius to Fahrenheit Conversion. Write a NumPy program to convert Centigrade degrees into Fahrenheit degrees. Centigrade values are stored in a NumPy array.\n",
    "import numpy as np\n",
    "\n",
    "centigrade = np.array([0, 12, 45.21, 34, 99.91])\n",
    "fahrenheit = centigrade * 9/5 + 32\n",
    "\n",
    "print(f\"Celsius temperatures: {centigrade}\")\n",
    "print(f\"Fahrenheit temperatures: {fahrenheit}\")"
   ]
  },
  {
   "cell_type": "code",
   "execution_count": 10,
   "id": "35d37775",
   "metadata": {},
   "outputs": [
    {
     "name": "stdout",
     "output_type": "stream",
     "text": [
      "Original array: [10 20 30]\n",
      "After append values to the end of the array: [10 20 30 40 50 60 70 80 90]\n"
     ]
    }
   ],
   "source": [
    "#7. Append Values to Array (Do self-study). Write a NumPy program to append values to the end of an array.\n",
    "import numpy as np\n",
    "\n",
    "org_vals = np.array([10, 20, 30])\n",
    "print(\"Original array:\", org_vals)\n",
    "\n",
    "values_to_append = [40, 50, 60, 70, 80, 90]\n",
    "\n",
    "new_arr = np.append(org_vals, values_to_append)\n",
    "print(\"After append values to the end of the array:\", new_arr)"
   ]
  },
  {
   "cell_type": "code",
   "execution_count": 14,
   "id": "f1590ddd",
   "metadata": {},
   "outputs": [
    {
     "name": "stdout",
     "output_type": "stream",
     "text": [
      "Random array: [0.6791313  0.00690889 0.07034796 0.78215267 0.57568724 0.31320172\n",
      " 0.02483252 0.58181597 0.54976011 0.7348745 ]\n",
      "Mean: 0.4318712894207441\n",
      "Median: 0.5627236773869574\n",
      "Standard Deviation: 0.28701304997975163\n"
     ]
    }
   ],
   "source": [
    "#8. Array Statistical Functions (Do self-study). Create a random NumPy array of 10 elements and calculate the mean, median, and standard deviation of the array.\n",
    "import numpy as np\n",
    "\n",
    "array_values = np.random.rand(10)\n",
    "print(\"Random array:\", array_values)\n",
    "\n",
    "mean_value = np.mean(array_values)\n",
    "print(\"Mean:\", mean_value)\n",
    "\n",
    "median_value = np.median(array_values)\n",
    "print(\"Median:\", median_value)\n",
    "\n",
    "std_value = np.std(array_values)\n",
    "print(\"Standard Deviation:\", std_value)"
   ]
  },
  {
   "cell_type": "code",
   "execution_count": 16,
   "id": "771cc426",
   "metadata": {},
   "outputs": [
    {
     "name": "stdout",
     "output_type": "stream",
     "text": [
      "10x10 Random Array:\n",
      " [0.6791313  0.00690889 0.07034796 0.78215267 0.57568724 0.31320172\n",
      " 0.02483252 0.58181597 0.54976011 0.7348745 ]\n",
      "Minimum value: 0.006908891881679091\n",
      "Maximum value: 0.7821526741057966\n"
     ]
    }
   ],
   "source": [
    "#9. Find min and max. Create a 10x10 array with random values and find the minimum and maximum values.\n",
    "import numpy as np\n",
    "\n",
    "arr_val = np.random.rand(10,10)\n",
    "print(\"10x10 Random Array:\\n\", array_values)\n",
    "\n",
    "min_value = np.min(array_values)\n",
    "print(\"Minimum value:\", min_value)\n",
    "\n",
    "max_value = np.max(array_values)\n",
    "print(\"Maximum value:\", max_value)"
   ]
  },
  {
   "cell_type": "code",
   "execution_count": 18,
   "id": "99cc54f0",
   "metadata": {},
   "outputs": [
    {
     "name": "stdout",
     "output_type": "stream",
     "text": [
      "3x3x3 Random Array:\n",
      " [[[0.12539968 0.9281649  0.64389068]\n",
      "  [0.05553609 0.66766865 0.59633373]\n",
      "  [0.9716484  0.66986347 0.52352172]]\n",
      "\n",
      " [[0.65804472 0.94982121 0.14812442]\n",
      "  [0.81728581 0.79764236 0.10338198]\n",
      "  [0.01818942 0.01576175 0.10065609]]\n",
      "\n",
      " [[0.22432136 0.0476199  0.06597328]\n",
      "  [0.16699138 0.70566603 0.18439335]\n",
      "  [0.59412874 0.04735309 0.27664099]]]\n"
     ]
    }
   ],
   "source": [
    "#10. Create a 3x3x3 array with random values.\n",
    "import numpy as np\n",
    "\n",
    "arr_val = np.random.rand(3,3,3)\n",
    "print(\"3x3x3 Random Array:\\n\", arr_val)"
   ]
  }
 ],
 "metadata": {
  "kernelspec": {
   "display_name": "base",
   "language": "python",
   "name": "python3"
  },
  "language_info": {
   "codemirror_mode": {
    "name": "ipython",
    "version": 3
   },
   "file_extension": ".py",
   "mimetype": "text/x-python",
   "name": "python",
   "nbconvert_exporter": "python",
   "pygments_lexer": "ipython3",
   "version": "3.11.7"
  }
 },
 "nbformat": 4,
 "nbformat_minor": 5
}
